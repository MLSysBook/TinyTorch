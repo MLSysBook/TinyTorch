{
 "cells": [
  {
   "cell_type": "markdown",
   "id": "1bc7eb6f",
   "metadata": {
    "cell_marker": "\"\"\""
   },
   "source": [
    "# Module 0: Setup - Tiny🔥Torch Development Workflow\n",
    "\n",
    "Welcome to TinyTorch! This module teaches you the development workflow you'll use throughout the course.\n",
    "\n",
    "## Learning Goals\n",
    "- Understand the nbdev notebook-to-Python workflow\n",
    "- Write your first TinyTorch code\n",
    "- Run tests and use the CLI tools\n",
    "- Get comfortable with the development rhythm\n",
    "\n",
    "## The TinyTorch Development Cycle\n",
    "\n",
    "1. **Write code** in this notebook using `#| export` \n",
    "2. **Export code** with `python bin/tito.py sync --module setup`\n",
    "3. **Run tests** with `python bin/tito.py test --module setup`\n",
    "4. **Check progress** with `python bin/tito.py info`\n",
    "\n",
    "Let's get started!"
   ]
  },
  {
   "cell_type": "code",
   "execution_count": 1,
   "id": "de9a1cf3",
   "metadata": {
    "execution": {
     "iopub.execute_input": "2025-07-10T23:18:38.075213Z",
     "iopub.status.busy": "2025-07-10T23:18:38.075056Z",
     "iopub.status.idle": "2025-07-10T23:18:38.079728Z",
     "shell.execute_reply": "2025-07-10T23:18:38.079298Z"
    }
   },
   "outputs": [
    {
     "name": "stdout",
     "output_type": "stream",
     "text": [
      "🔥 TinyTorch Development Environment\n",
      "Python 3.13.3 (v3.13.3:6280bb54784, Apr  8 2025, 10:47:54) [Clang 15.0.0 (clang-1500.3.9.4)]\n",
      "Platform: Darwin 24.5.0\n",
      "Started: 2025-07-10 19:18:38\n"
     ]
    }
   ],
   "source": [
    "#| default_exp core.utils\n",
    "\n",
    "# Setup imports and environment\n",
    "import sys\n",
    "import platform\n",
    "from datetime import datetime\n",
    "\n",
    "print(\"🔥 TinyTorch Development Environment\")\n",
    "print(f\"Python {sys.version}\")\n",
    "print(f\"Platform: {platform.system()} {platform.release()}\")\n",
    "print(f\"Started: {datetime.now().strftime('%Y-%m-%d %H:%M:%S')}\")"
   ]
  },
  {
   "cell_type": "markdown",
   "id": "3e7e584b",
   "metadata": {
    "cell_marker": "\"\"\"",
    "lines_to_next_cell": 1
   },
   "source": [
    "## Step 1: Understanding the Module → Package Structure\n",
    "\n",
    "**🎓 Teaching vs. 🔧 Building**: This course has two sides:\n",
    "- **Teaching side**: You work in `modules/setup/setup_dev.ipynb` (learning-focused)\n",
    "- **Building side**: Your code exports to `tinytorch/core/utils.py` (production package)\n",
    "\n",
    "**Key Concept**: The `#| default_exp core.utils` directive at the top tells nbdev to export all `#| export` cells to `tinytorch/core/utils.py`.\n",
    "\n",
    "This separation allows us to:\n",
    "- Organize learning by **concepts** (modules)  \n",
    "- Organize code by **function** (package structure)\n",
    "- Build a real ML framework while learning systematically\n",
    "\n",
    "Let's write a simple \"Hello World\" function with the `#| export` directive:"
   ]
  },
  {
   "cell_type": "code",
   "execution_count": 2,
   "id": "76b6bd6d",
   "metadata": {
    "execution": {
     "iopub.execute_input": "2025-07-10T23:18:38.081710Z",
     "iopub.status.busy": "2025-07-10T23:18:38.081576Z",
     "iopub.status.idle": "2025-07-10T23:18:38.083719Z",
     "shell.execute_reply": "2025-07-10T23:18:38.083440Z"
    },
    "lines_to_next_cell": 1
   },
   "outputs": [],
   "source": [
    "#| export\n",
    "def hello_tinytorch():\n",
    "    \"\"\"\n",
    "    A simple hello world function for TinyTorch.\n",
    "    \n",
    "    TODO: Implement this function to return a welcoming message about TinyTorch.\n",
    "    Make it encouraging and mention what students will build.\n",
    "    \"\"\"\n",
    "    raise NotImplementedError(\"Student implementation required\")\n",
    "\n",
    "def add_numbers(a, b):\n",
    "    \"\"\"\n",
    "    Add two numbers together.\n",
    "    \n",
    "    TODO: Implement addition of two numbers.\n",
    "    This is the foundation of all mathematical operations in ML.\n",
    "    \"\"\"\n",
    "    raise NotImplementedError(\"Student implementation required\")"
   ]
  },
  {
   "cell_type": "code",
   "execution_count": 3,
   "id": "6632ced8",
   "metadata": {
    "execution": {
     "iopub.execute_input": "2025-07-10T23:18:38.085296Z",
     "iopub.status.busy": "2025-07-10T23:18:38.085017Z",
     "iopub.status.idle": "2025-07-10T23:18:38.087739Z",
     "shell.execute_reply": "2025-07-10T23:18:38.087361Z"
    },
    "lines_to_next_cell": 1
   },
   "outputs": [],
   "source": [
    "#| hide\n",
    "#| export\n",
    "def hello_tinytorch():\n",
    "    \"\"\"A simple hello world function for TinyTorch.\"\"\"\n",
    "    return \"🔥 Welcome to TinyTorch! Ready to build ML systems from scratch? Let's go! 🔥\"\n",
    "\n",
    "def add_numbers(a, b):\n",
    "    \"\"\"Add two numbers together.\"\"\"\n",
    "    return a + b"
   ]
  },
  {
   "cell_type": "markdown",
   "id": "49886309",
   "metadata": {
    "cell_marker": "\"\"\""
   },
   "source": [
    "### 🧪 Test Your Implementation\n",
    "\n",
    "Once you implement the functions above, run this cell to test them:"
   ]
  },
  {
   "cell_type": "code",
   "execution_count": 4,
   "id": "7b3b94c5",
   "metadata": {
    "execution": {
     "iopub.execute_input": "2025-07-10T23:18:38.089472Z",
     "iopub.status.busy": "2025-07-10T23:18:38.089338Z",
     "iopub.status.idle": "2025-07-10T23:18:38.091773Z",
     "shell.execute_reply": "2025-07-10T23:18:38.091522Z"
    }
   },
   "outputs": [
    {
     "name": "stdout",
     "output_type": "stream",
     "text": [
      "Testing hello_tinytorch():\n",
      "🔥 Welcome to TinyTorch! Ready to build ML systems from scratch? Let's go! 🔥\n",
      "\n",
      "Testing add_numbers():\n",
      "2 + 3 = 5\n"
     ]
    }
   ],
   "source": [
    "# Test the functions in the notebook (will fail until implemented)\n",
    "try:\n",
    "    print(\"Testing hello_tinytorch():\")\n",
    "    print(hello_tinytorch())\n",
    "    print()\n",
    "    print(\"Testing add_numbers():\")\n",
    "    print(f\"2 + 3 = {add_numbers(2, 3)}\")\n",
    "except NotImplementedError as e:\n",
    "    print(f\"⚠️  {e}\")\n",
    "    print(\"Implement the functions above first!\")"
   ]
  },
  {
   "cell_type": "markdown",
   "id": "5ed16f85",
   "metadata": {
    "cell_marker": "\"\"\"",
    "lines_to_next_cell": 1
   },
   "source": [
    "## Step 2: A Simple Class\n",
    "\n",
    "Let's create a simple class that will help us understand system information. This is still basic, but shows how to structure classes in TinyTorch."
   ]
  },
  {
   "cell_type": "code",
   "execution_count": 5,
   "id": "b29bb137",
   "metadata": {
    "execution": {
     "iopub.execute_input": "2025-07-10T23:18:38.093020Z",
     "iopub.status.busy": "2025-07-10T23:18:38.092910Z",
     "iopub.status.idle": "2025-07-10T23:18:38.095233Z",
     "shell.execute_reply": "2025-07-10T23:18:38.094958Z"
    },
    "lines_to_next_cell": 1
   },
   "outputs": [],
   "source": [
    "#| export\n",
    "class SystemInfo:\n",
    "    \"\"\"\n",
    "    Simple system information class.\n",
    "    \n",
    "    TODO: Implement this class to collect and display system information.\n",
    "    \"\"\"\n",
    "    \n",
    "    def __init__(self):\n",
    "        \"\"\"\n",
    "        Initialize system information collection.\n",
    "        \n",
    "        TODO: Collect Python version, platform, and machine information.\n",
    "        \"\"\"\n",
    "        raise NotImplementedError(\"Student implementation required\")\n",
    "    \n",
    "    def __str__(self):\n",
    "        \"\"\"\n",
    "        Return human-readable system information.\n",
    "        \n",
    "        TODO: Format system info as a readable string.\n",
    "        \"\"\"\n",
    "        raise NotImplementedError(\"Student implementation required\")\n",
    "    \n",
    "    def is_compatible(self):\n",
    "        \"\"\"\n",
    "        Check if system meets minimum requirements.\n",
    "        \n",
    "        TODO: Check if Python version is >= 3.8\n",
    "        \"\"\"\n",
    "        raise NotImplementedError(\"Student implementation required\")"
   ]
  },
  {
   "cell_type": "code",
   "execution_count": 6,
   "id": "182bdfa7",
   "metadata": {
    "execution": {
     "iopub.execute_input": "2025-07-10T23:18:38.096679Z",
     "iopub.status.busy": "2025-07-10T23:18:38.096549Z",
     "iopub.status.idle": "2025-07-10T23:18:38.099068Z",
     "shell.execute_reply": "2025-07-10T23:18:38.098840Z"
    },
    "lines_to_next_cell": 1
   },
   "outputs": [],
   "source": [
    "#| hide\n",
    "#| export\n",
    "class SystemInfo:\n",
    "    \"\"\"Simple system information class.\"\"\"\n",
    "    \n",
    "    def __init__(self):\n",
    "        self.python_version = sys.version_info\n",
    "        self.platform = platform.system()\n",
    "        self.machine = platform.machine()\n",
    "    \n",
    "    def __str__(self):\n",
    "        return f\"Python {self.python_version.major}.{self.python_version.minor} on {self.platform} ({self.machine})\"\n",
    "    \n",
    "    def is_compatible(self):\n",
    "        \"\"\"Check if system meets minimum requirements.\"\"\"\n",
    "        return self.python_version >= (3, 8)"
   ]
  },
  {
   "cell_type": "markdown",
   "id": "8b274155",
   "metadata": {
    "cell_marker": "\"\"\""
   },
   "source": [
    "### 🧪 Test Your SystemInfo Class\n",
    "\n",
    "Once you implement the SystemInfo class above, run this cell to test it:"
   ]
  },
  {
   "cell_type": "code",
   "execution_count": 7,
   "id": "852c0835",
   "metadata": {
    "execution": {
     "iopub.execute_input": "2025-07-10T23:18:38.100400Z",
     "iopub.status.busy": "2025-07-10T23:18:38.100273Z",
     "iopub.status.idle": "2025-07-10T23:18:38.102537Z",
     "shell.execute_reply": "2025-07-10T23:18:38.102258Z"
    }
   },
   "outputs": [
    {
     "name": "stdout",
     "output_type": "stream",
     "text": [
      "Testing SystemInfo class:\n",
      "System: Python 3.13 on Darwin (arm64)\n",
      "Compatible: True\n"
     ]
    }
   ],
   "source": [
    "# Test the SystemInfo class (will fail until implemented)\n",
    "try:\n",
    "    print(\"Testing SystemInfo class:\")\n",
    "    info = SystemInfo()\n",
    "    print(f\"System: {info}\")\n",
    "    print(f\"Compatible: {info.is_compatible()}\")\n",
    "except NotImplementedError as e:\n",
    "    print(f\"⚠️  {e}\")\n",
    "    print(\"Implement the SystemInfo class above first!\")"
   ]
  },
  {
   "cell_type": "markdown",
   "id": "1f605f22",
   "metadata": {
    "cell_marker": "\"\"\"",
    "lines_to_next_cell": 1
   },
   "source": [
    "## Step 3: Developer Personalization\n",
    "\n",
    "Let's make TinyTorch yours! Create a developer profile that will identify you throughout your ML systems journey."
   ]
  },
  {
   "cell_type": "code",
   "execution_count": 8,
   "id": "d2471b77",
   "metadata": {
    "execution": {
     "iopub.execute_input": "2025-07-10T23:18:38.104097Z",
     "iopub.status.busy": "2025-07-10T23:18:38.103977Z",
     "iopub.status.idle": "2025-07-10T23:18:38.106621Z",
     "shell.execute_reply": "2025-07-10T23:18:38.106327Z"
    },
    "lines_to_next_cell": 1
   },
   "outputs": [],
   "source": [
    "#| export\n",
    "class DeveloperProfile:\n",
    "    \"\"\"\n",
    "    Developer profile for personalizing TinyTorch experience.\n",
    "    \n",
    "    TODO: Implement this class to store and display developer information.\n",
    "    Default to course instructor but allow students to personalize.\n",
    "    \"\"\"\n",
    "    \n",
    "    @staticmethod\n",
    "    def _load_default_flame():\n",
    "        \"\"\"\n",
    "        Load the default TinyTorch flame ASCII art from file.\n",
    "        \n",
    "        TODO: Implement file loading for tinytorch_flame.txt with fallback.\n",
    "        \"\"\"\n",
    "        raise NotImplementedError(\"Student implementation required\")\n",
    "    \n",
    "    def __init__(self, name=\"Vijay Janapa Reddi\", affiliation=\"Harvard University\", \n",
    "                 email=\"vj@eecs.harvard.edu\", github_username=\"profvjreddi\", ascii_art=None):\n",
    "        \"\"\"\n",
    "        Initialize developer profile.\n",
    "        \n",
    "        TODO: Store developer information with sensible defaults.\n",
    "        Students should be able to customize this with their own info and ASCII art.\n",
    "        \"\"\"\n",
    "        raise NotImplementedError(\"Student implementation required\")\n",
    "    \n",
    "    def __str__(self):\n",
    "        \"\"\"\n",
    "        Return formatted developer information.\n",
    "        \n",
    "        TODO: Format developer info as a professional signature with optional ASCII art.\n",
    "        \"\"\"\n",
    "        raise NotImplementedError(\"Student implementation required\")\n",
    "    \n",
    "    def get_signature(self):\n",
    "        \"\"\"\n",
    "        Get a short signature for code headers.\n",
    "        \n",
    "        TODO: Return a concise signature like \"Built by Name (@github)\"\n",
    "        \"\"\"\n",
    "        raise NotImplementedError(\"Student implementation required\")\n",
    "    \n",
    "    def get_ascii_art(self):\n",
    "        \"\"\"\n",
    "        Get ASCII art for the profile.\n",
    "        \n",
    "        TODO: Return custom ASCII art or default flame loaded from file.\n",
    "        \"\"\"\n",
    "        raise NotImplementedError(\"Student implementation required\")"
   ]
  },
  {
   "cell_type": "code",
   "execution_count": 9,
   "id": "b61db25b",
   "metadata": {
    "execution": {
     "iopub.execute_input": "2025-07-10T23:18:38.107876Z",
     "iopub.status.busy": "2025-07-10T23:18:38.107776Z",
     "iopub.status.idle": "2025-07-10T23:18:38.111841Z",
     "shell.execute_reply": "2025-07-10T23:18:38.111397Z"
    },
    "lines_to_next_cell": 1
   },
   "outputs": [],
   "source": [
    "#| hide\n",
    "#| export\n",
    "class DeveloperProfile:\n",
    "    \"\"\"Developer profile for personalizing TinyTorch experience.\"\"\"\n",
    "    \n",
    "    @staticmethod\n",
    "    def _load_default_flame():\n",
    "        \"\"\"Load the default TinyTorch flame ASCII art from file.\"\"\"\n",
    "        try:\n",
    "            # Try to load from the same directory as this module\n",
    "            import os\n",
    "            try:\n",
    "                # Try to get the directory of the current file\n",
    "                current_dir = os.path.dirname(__file__)\n",
    "            except NameError:\n",
    "                # If __file__ is not defined (e.g., in notebook), use current directory\n",
    "                current_dir = os.getcwd()\n",
    "            \n",
    "            flame_path = os.path.join(current_dir, 'tinytorch_flame.txt')\n",
    "            \n",
    "            with open(flame_path, 'r', encoding='utf-8') as f:\n",
    "                flame_art = f.read()\n",
    "            \n",
    "            # Add the Tiny🔥Torch text below the flame\n",
    "            return f\"\"\"{flame_art}\n",
    "                    \n",
    "                    Tiny🔥Torch\n",
    "            Build ML Systems from Scratch!\n",
    "            \"\"\"\n",
    "        except (FileNotFoundError, IOError):\n",
    "            # Fallback to simple flame if file not found\n",
    "            return \"\"\"\n",
    "    🔥 TinyTorch Developer 🔥\n",
    "         .  .  .  .  .  .\n",
    "        .    .  .  .  .   .\n",
    "       .  .    .  .  .  .  .\n",
    "      .  .  .    .  .  .  .  .\n",
    "     .  .  .  .    .  .  .  .  .\n",
    "    .  .  .  .  .    .  .  .  .  .\n",
    "   .  .  .  .  .  .    .  .  .  .  .\n",
    "  .  .  .  .  .  .  .    .  .  .  .  .\n",
    " .  .  .  .  .  .  .  .    .  .  .  .  .\n",
    ".  .  .  .  .  .  .  .  .    .  .  .  .  .\n",
    " \\\\  \\\\  \\\\  \\\\  \\\\  \\\\  \\\\  \\\\  \\\\  /  /  /  /  /  /\n",
    "  \\\\  \\\\  \\\\  \\\\  \\\\  \\\\  \\\\  \\\\  /  /  /  /  /  /\n",
    "   \\\\  \\\\  \\\\  \\\\  \\\\  \\\\  \\\\  /  /  /  /  /  /\n",
    "    \\\\  \\\\  \\\\  \\\\  \\\\  \\\\  /  /  /  /  /  /\n",
    "     \\\\  \\\\  \\\\  \\\\  \\\\  /  /  /  /  /  /\n",
    "      \\\\  \\\\  \\\\  \\\\  /  /  /  /  /  /\n",
    "       \\\\  \\\\  \\\\  /  /  /  /  /  /\n",
    "        \\\\  \\\\  /  /  /  /  /  /\n",
    "         \\\\  /  /  /  /  /  /\n",
    "          \\\\/  /  /  /  /  /\n",
    "           \\\\/  /  /  /  /\n",
    "            \\\\/  /  /  /\n",
    "             \\\\/  /  /\n",
    "              \\\\/  /\n",
    "               \\\\/\n",
    "                    \n",
    "                    Tiny🔥Torch\n",
    "            Build ML Systems from Scratch!\n",
    "            \"\"\"\n",
    "    \n",
    "    def __init__(self, name=\"Vijay Janapa Reddi\", affiliation=\"Harvard University\", \n",
    "                 email=\"vj@eecs.harvard.edu\", github_username=\"profvjreddi\", ascii_art=None):\n",
    "        self.name = name\n",
    "        self.affiliation = affiliation\n",
    "        self.email = email\n",
    "        self.github_username = github_username\n",
    "        self.ascii_art = ascii_art or self._load_default_flame()\n",
    "    \n",
    "    def __str__(self):\n",
    "        return f\"👨‍💻 {self.name} | {self.affiliation} | @{self.github_username}\"\n",
    "    \n",
    "    def get_signature(self):\n",
    "        \"\"\"Get a short signature for code headers.\"\"\"\n",
    "        return f\"Built by {self.name} (@{self.github_username})\"\n",
    "    \n",
    "    def get_ascii_art(self):\n",
    "        \"\"\"Get ASCII art for the profile.\"\"\"\n",
    "        return self.ascii_art\n",
    "    \n",
    "    def get_full_profile(self):\n",
    "        \"\"\"Get complete profile with ASCII art.\"\"\"\n",
    "        return f\"\"\"{self.ascii_art}\n",
    "        \n",
    "👨‍💻 Developer: {self.name}\n",
    "🏛️  Affiliation: {self.affiliation}\n",
    "📧 Email: {self.email}\n",
    "🐙 GitHub: @{self.github_username}\n",
    "🔥 Ready to build ML systems from scratch!\n",
    "\"\"\""
   ]
  },
  {
   "cell_type": "markdown",
   "id": "3e3b2101",
   "metadata": {
    "cell_marker": "\"\"\""
   },
   "source": [
    "### 🧪 Test Your Developer Profile\n",
    "\n",
    "Customize your developer profile! Replace the default information with your own:"
   ]
  },
  {
   "cell_type": "code",
   "execution_count": 10,
   "id": "600b26a5",
   "metadata": {
    "execution": {
     "iopub.execute_input": "2025-07-10T23:18:38.113502Z",
     "iopub.status.busy": "2025-07-10T23:18:38.113365Z",
     "iopub.status.idle": "2025-07-10T23:18:38.116672Z",
     "shell.execute_reply": "2025-07-10T23:18:38.116443Z"
    }
   },
   "outputs": [
    {
     "name": "stdout",
     "output_type": "stream",
     "text": [
      "Testing DeveloperProfile (with defaults):\n",
      "Profile: 👨‍💻 Vijay Janapa Reddi | Harvard University | @profvjreddi\n",
      "Signature: Built by Vijay Janapa Reddi (@profvjreddi)\n",
      "\n",
      "🎨 ASCII Art Preview:\n",
      ". .    ... .......  ....    ...      .   .   ..  ....   .        ..   .   .     .   . . ....        \n",
      ".   . ..     .++.     ..           .     . . ..  ...            .     .         .   ..  ...    ..   \n",
      " .    .    . .=++=..   .     .   .             ..         . .   ..  .         ...       ..  .   .   \n",
      ".    ..  ... .++++=.  .      .             .  .             ..                .      ..            .\n",
      ". . .  . ....-+++++.... ... ..   .        ....  .. . .  . .  .    . .  .       .       .  .      .  \n",
      "  .   .. ...-++++++-...... ..  .    ..... ..-:..  ..  .      .... ..      . .     ..   . ..   . . . \n",
      " ..  ..  ..++++++++-..       .   . ..##... -%#.          .  .                 .           .      .  \n",
      ".   ..  .:+++++++++.... ... .    ...:%%:............:-:. ..... ......    . .   .......    ..    . . \n",
      "      ..+++++++++++. ...     . .. .=#%%##+.-##..#%####%%=.=%%.  .*%+..   .      .  .          ...   \n",
      "  . ..++++++++++++...-++.....   .   .%%... -##..##=...=%#..*%*..=%#.. . ..   ... . . .  . ..  .  ...\n",
      "  ..-+++++++++++++..=++++...    .....%#..  -##..#%-.. -##. .%%=.%%.. .             .  .  .  .  ... .\n",
      ". .=++++++++++++++-+++++++.... .  ...%%:...-##..#%-. .-%#. ..#%#%=..     .  ..   ...       . .   . .\n",
      "..=+++++++++++++++++++++++-.  .    ..=%%%+.-%#..##-. .-%#....-%%*..   .         ..  .     .. ..  .. \n",
      ".:+++++++++++=+++++++++++++. .      ................  .......-%%...     .          ..   .  .  .. .  \n",
      ".++++++++++===+++++++++++++: .   .................... . ...%%%#:........ .  .. .....  ......... ....\n",
      ":+++++++++====+++++++++++++=..  ...-----------.....-+#*=:.....-------:.......:=*#+-.. ..--:.....--=.\n",
      ":++++++++======++++++++++++=..  ...#%%%%%%%%%#..-#%%###%%#=...#%####%%%=...+%%%###%%#...#%+.. ..#%%.\n",
      ".+++++++========+++++++++++-       .. .#%%.. ..-%%+.. ..-%%+..#%*.. .*%%..*%%:.  ..#%*..#%+... .#%%.\n",
      ".=++++++==========+++++++++:  .       .#%%.....#%#....  .*%#..#%*...-%%*..#%+.  ... . ..##%#####%%%.\n",
      "..++++++===========+++++++-.    .   ...#%%. . .#%#.   . .*%#..#%%%%%%#-. .#%+.  .   ....#%*-----#%%.\n",
      "...+++++===========++++++=.   .  .  . .#%%...  -%%+.....=%%+..#%*..+%%-. .*%%-.....#%*..%%+.. ..%%%.\n",
      ". ..-+++===========+++++..   . ..    ..#%%.    .:%%%###%%%=...#%*...+%%=...+%%####%%#...%%+.. ..%%%.\n",
      " . ...-++==========+++:....  ...  .   .===.  ... ..-+++=..  ..-=-....-==:  ..:=+++-.. ..==-... .===.\n",
      "     ....-+=======+-...... .. .  .   ... .  . ..  ...  . . ....   .   . .  . .....   .  ... .....  .\n",
      " .... . ......:.....  ... . ..    .   ... . .  ... .  . .     ... .  .  . ...      ..   .....   . . \n",
      "\n",
      "                    \n",
      "                    Tiny🔥Torch\n",
      "            Build ML Systems from Scratch!\n",
      "            \n",
      "\n",
      "🔥 Full Profile Display:\n",
      ". .    ... .......  ....    ...      .   .   ..  ....   .        ..   .   .     .   . . ....        \n",
      ".   . ..     .++.     ..           .     . . ..  ...            .     .         .   ..  ...    ..   \n",
      " .    .    . .=++=..   .     .   .             ..         . .   ..  .         ...       ..  .   .   \n",
      ".    ..  ... .++++=.  .      .             .  .             ..                .      ..            .\n",
      ". . .  . ....-+++++.... ... ..   .        ....  .. . .  . .  .    . .  .       .       .  .      .  \n",
      "  .   .. ...-++++++-...... ..  .    ..... ..-:..  ..  .      .... ..      . .     ..   . ..   . . . \n",
      " ..  ..  ..++++++++-..       .   . ..##... -%#.          .  .                 .           .      .  \n",
      ".   ..  .:+++++++++.... ... .    ...:%%:............:-:. ..... ......    . .   .......    ..    . . \n",
      "      ..+++++++++++. ...     . .. .=#%%##+.-##..#%####%%=.=%%.  .*%+..   .      .  .          ...   \n",
      "  . ..++++++++++++...-++.....   .   .%%... -##..##=...=%#..*%*..=%#.. . ..   ... . . .  . ..  .  ...\n",
      "  ..-+++++++++++++..=++++...    .....%#..  -##..#%-.. -##. .%%=.%%.. .             .  .  .  .  ... .\n",
      ". .=++++++++++++++-+++++++.... .  ...%%:...-##..#%-. .-%#. ..#%#%=..     .  ..   ...       . .   . .\n",
      "..=+++++++++++++++++++++++-.  .    ..=%%%+.-%#..##-. .-%#....-%%*..   .         ..  .     .. ..  .. \n",
      ".:+++++++++++=+++++++++++++. .      ................  .......-%%...     .          ..   .  .  .. .  \n",
      ".++++++++++===+++++++++++++: .   .................... . ...%%%#:........ .  .. .....  ......... ....\n",
      ":+++++++++====+++++++++++++=..  ...-----------.....-+#*=:.....-------:.......:=*#+-.. ..--:.....--=.\n",
      ":++++++++======++++++++++++=..  ...#%%%%%%%%%#..-#%%###%%#=...#%####%%%=...+%%%###%%#...#%+.. ..#%%.\n",
      ".+++++++========+++++++++++-       .. .#%%.. ..-%%+.. ..-%%+..#%*.. .*%%..*%%:.  ..#%*..#%+... .#%%.\n",
      ".=++++++==========+++++++++:  .       .#%%.....#%#....  .*%#..#%*...-%%*..#%+.  ... . ..##%#####%%%.\n",
      "..++++++===========+++++++-.    .   ...#%%. . .#%#.   . .*%#..#%%%%%%#-. .#%+.  .   ....#%*-----#%%.\n",
      "...+++++===========++++++=.   .  .  . .#%%...  -%%+.....=%%+..#%*..+%%-. .*%%-.....#%*..%%+.. ..%%%.\n",
      ". ..-+++===========+++++..   . ..    ..#%%.    .:%%%###%%%=...#%*...+%%=...+%%####%%#...%%+.. ..%%%.\n",
      " . ...-++==========+++:....  ...  .   .===.  ... ..-+++=..  ..-=-....-==:  ..:=+++-.. ..==-... .===.\n",
      "     ....-+=======+-...... .. .  .   ... .  . ..  ...  . . ....   .   . .  . .....   .  ... .....  .\n",
      " .... . ......:.....  ... . ..    .   ... . .  ... .  . .     ... .  .  . ...      ..   .....   . . \n",
      "\n",
      "                    \n",
      "                    Tiny🔥Torch\n",
      "            Build ML Systems from Scratch!\n",
      "            \n",
      "        \n",
      "👨‍💻 Developer: Vijay Janapa Reddi\n",
      "🏛️  Affiliation: Harvard University\n",
      "📧 Email: vj@eecs.harvard.edu\n",
      "🐙 GitHub: @profvjreddi\n",
      "🔥 Ready to build ML systems from scratch!\n",
      "\n",
      "\n",
      "🎯 YOUR TURN: Create your own profile!\n",
      "Uncomment and modify the lines below:\n",
      "# my_profile = DeveloperProfile(\n",
      "#     name='Your Name',\n",
      "#     affiliation='Your University/Company',\n",
      "#     email='your.email@example.com',\n",
      "#     github_username='yourgithub',\n",
      "#     ascii_art='''\n",
      "#     Your Custom ASCII Art Here!\n",
      "#     Maybe your initials, a logo, or something fun!\n",
      "#     '''\n",
      "# )\n",
      "# print(f'My Profile: {my_profile}')\n",
      "# print(f'My Signature: {my_profile.get_signature()}')\n",
      "# print(my_profile.get_full_profile())\n"
     ]
    }
   ],
   "source": [
    "# Test the DeveloperProfile class\n",
    "try:\n",
    "    print(\"Testing DeveloperProfile (with defaults):\")\n",
    "    # Default profile (instructor)\n",
    "    default_profile = DeveloperProfile()\n",
    "    print(f\"Profile: {default_profile}\")\n",
    "    print(f\"Signature: {default_profile.get_signature()}\")\n",
    "    print()\n",
    "    \n",
    "    print(\"🎨 ASCII Art Preview:\")\n",
    "    print(default_profile.get_ascii_art())\n",
    "    print()\n",
    "    \n",
    "    print(\"🔥 Full Profile Display:\")\n",
    "    print(default_profile.get_full_profile())\n",
    "    print()\n",
    "    \n",
    "    # TODO: Students should customize this with their own information!\n",
    "    print(\"🎯 YOUR TURN: Create your own profile!\")\n",
    "    print(\"Uncomment and modify the lines below:\")\n",
    "    print(\"# my_profile = DeveloperProfile(\")\n",
    "    print(\"#     name='Your Name',\")\n",
    "    print(\"#     affiliation='Your University/Company',\")\n",
    "    print(\"#     email='your.email@example.com',\")\n",
    "    print(\"#     github_username='yourgithub',\")\n",
    "    print(\"#     ascii_art='''\")\n",
    "    print(\"#     Your Custom ASCII Art Here!\")\n",
    "    print(\"#     Maybe your initials, a logo, or something fun!\")\n",
    "    print(\"#     '''\")\n",
    "    print(\"# )\")\n",
    "    print(\"# print(f'My Profile: {my_profile}')\")\n",
    "    print(\"# print(f'My Signature: {my_profile.get_signature()}')\")\n",
    "    print(\"# print(my_profile.get_full_profile())\")\n",
    "    \n",
    "except NotImplementedError as e:\n",
    "    print(f\"⚠️  {e}\")\n",
    "    print(\"Implement the DeveloperProfile class above first!\")"
   ]
  },
  {
   "cell_type": "markdown",
   "id": "f07fb565",
   "metadata": {
    "cell_marker": "\"\"\""
   },
   "source": [
    "### 🎨 Personalization Challenge\n",
    "\n",
    "**For Students**: Make TinyTorch truly yours by:\n",
    "\n",
    "1. **Update your profile** in the cell above with your real information\n",
    "2. **Create custom ASCII art** - your initials, a simple logo, or something that represents you\n",
    "3. **Customize the flame file** - edit `tinytorch_flame.txt` to create your own default art\n",
    "4. **Add your signature** to code you write throughout the course\n",
    "5. **Show off your full profile** with the `get_full_profile()` method\n",
    "\n",
    "This isn't just about customization - it's about taking ownership of your learning journey in ML systems!\n",
    "\n",
    "**ASCII Art Customization Options:**\n",
    "\n",
    "**Option 1: Custom ASCII Art Parameter**\n",
    "```python\n",
    "my_profile = DeveloperProfile(\n",
    "    name=\"Your Name\",\n",
    "    ascii_art='''\n",
    "    Your Custom ASCII Art Here!\n",
    "    Maybe your initials, a logo, or something fun!\n",
    "    '''\n",
    ")\n",
    "```\n",
    "\n",
    "**Option 2: Edit the Default Flame File**\n",
    "- Edit `tinytorch_flame.txt` in this directory\n",
    "- Replace with your own ASCII art design\n",
    "- All students using defaults will see your custom art!\n",
    "\n",
    "**ASCII Art Ideas:**\n",
    "- Your initials in block letters\n",
    "- A simple logo or symbol that represents you\n",
    "- Your university mascot in ASCII\n",
    "- A coding-themed design\n",
    "- Something that motivates you!\n",
    "\n",
    "**Example custom ASCII art:**\n",
    "```\n",
    "    A   L   I   C   E\n",
    "   /\\\\ | | | | /\\\\ |\n",
    "  /  \\\\| | | |/  \\\\|\n",
    " /    \\\\ | | /    \\\\\n",
    "/      \\\\|_|/      \\\\\n",
    "```\n",
    "\n",
    "**Pro Tip**: The `tinytorch_flame.txt` file contains the beautiful default flame art. You can:\n",
    "- Edit it directly for a personalized default\n",
    "- Create your own `.txt` file and modify the code to load it\n",
    "- Use online ASCII art generators for inspiration\n",
    "\n",
    "**Example personalized hello:**\n",
    "```python\n",
    "def my_hello_tinytorch():\n",
    "    profile = DeveloperProfile(name=\"Your Name\", github_username=\"yourgithub\")\n",
    "    return f\"🔥 Welcome to TinyTorch! I'm {profile.name} and I'm ready to build ML systems from scratch! Let's go! 🔥\"\n",
    "```"
   ]
  },
  {
   "cell_type": "markdown",
   "id": "a851b417",
   "metadata": {
    "cell_marker": "\"\"\""
   },
   "source": [
    "## Step 4: Try the Export Process\n",
    "\n",
    "Now let's export our code! In your terminal, run:\n",
    "\n",
    "```bash\n",
    "python bin/tito.py sync --module setup\n",
    "```\n",
    "\n",
    "This will export the code marked with `#| export` to `tinytorch/core/utils.py`.\n",
    "\n",
    "**What happens during export:**\n",
    "1. nbdev scans this notebook for `#| export` cells\n",
    "2. Extracts the Python code  \n",
    "3. Writes it to `tinytorch/core/utils.py` (because of `#| default_exp core.utils`)\n",
    "4. Handles imports and dependencies automatically\n",
    "\n",
    "**🔍 Verification**: After export, check `tinytorch/core/utils.py` - you'll see your functions there with auto-generated headers pointing back to this notebook!\n",
    "\n",
    "**Note**: The export process will use the instructor solutions (from `#|hide` cells) so the package will have working implementations even if you haven't completed the exercises yet."
   ]
  },
  {
   "cell_type": "markdown",
   "id": "400d5760",
   "metadata": {
    "cell_marker": "\"\"\""
   },
   "source": [
    "## Step 5: Run Tests\n",
    "\n",
    "After exporting, run the tests:\n",
    "\n",
    "```bash\n",
    "python bin/tito.py test --module setup\n",
    "```\n",
    "\n",
    "This will run all tests for the setup module and verify your implementation works correctly.\n",
    "\n",
    "## Step 6: Check Your Progress\n",
    "\n",
    "See your overall progress:\n",
    "\n",
    "```bash\n",
    "python bin/tito.py info\n",
    "```\n",
    "\n",
    "This shows which modules are complete and which are pending."
   ]
  },
  {
   "cell_type": "markdown",
   "id": "6159a978",
   "metadata": {
    "cell_marker": "\"\"\""
   },
   "source": [
    "## 🎉 Congratulations!\n",
    "\n",
    "You've learned the TinyTorch development workflow:\n",
    "\n",
    "1. ✅ Write code in notebooks with `#| export`\n",
    "2. ✅ Export with `tito sync --module setup`  \n",
    "3. ✅ Test with `tito test --module setup`\n",
    "4. ✅ Check progress with `tito info`\n",
    "\n",
    "**This is the rhythm you'll use for every module in TinyTorch.**\n",
    "\n",
    "### Next Steps\n",
    "\n",
    "Ready for the real work? Head to **Module 1: Tensor** where you'll build the core data structures that power everything else in TinyTorch.\n",
    "\n",
    "**Development Tips:**\n",
    "- Always test your code in the notebook first\n",
    "- Export frequently to catch issues early  \n",
    "- Read error messages carefully - they're designed to help\n",
    "- When stuck, check if your code exports cleanly first\n",
    "\n",
    "Happy building! 🔥"
   ]
  }
 ],
 "metadata": {
  "jupytext": {
   "main_language": "python"
  },
  "language_info": {
   "codemirror_mode": {
    "name": "ipython",
    "version": 3
   },
   "file_extension": ".py",
   "mimetype": "text/x-python",
   "name": "python",
   "nbconvert_exporter": "python",
   "pygments_lexer": "ipython3",
   "version": "3.13.3"
  }
 },
 "nbformat": 4,
 "nbformat_minor": 5
}
