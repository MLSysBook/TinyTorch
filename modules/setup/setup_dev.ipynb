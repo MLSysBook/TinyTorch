{
 "cells": [
  {
   "cell_type": "markdown",
   "id": "4f8e5d54",
   "metadata": {
    "cell_marker": "\"\"\""
   },
   "source": [
    "# Module 0: Setup - Tiny🔥Torch Development Workflow\n",
    "\n",
    "Welcome to TinyTorch! This module teaches you the development workflow you'll use throughout the course.\n",
    "\n",
    "> **📚 Educational Mode**: This notebook uses NBDev's educational features. Instructors see complete solutions, students see exercises with hidden answers.\n",
    "\n",
    "## Learning Goals\n",
    "- Understand the NBDev notebook-to-Python workflow with educational directives\n",
    "- Write your first TinyTorch code with instructor/student mode support\n",
    "- Master the hide/show pattern for progressive learning\n",
    "- Run tests and use the CLI tools\n",
    "- Get comfortable with the development rhythm\n",
    "\n",
    "## ✨ NBDev Educational Features\n",
    "- **`#|hide`** - Hide complete solutions from students (click to reveal)\n",
    "- **`#|code-fold`** - Collapsible code sections for optional details\n",
    "- **Single source** - One notebook serves both instructors and students\n",
    "\n",
    "## The TinyTorch Development Cycle\n",
    "\n",
    "1. **Write code** in this notebook using `#| export` and educational directives\n",
    "2. **Export code** with `python bin/tito.py sync --module setup`\n",
    "3. **Run tests** with `python bin/tito.py test --module setup`\n",
    "4. **Check progress** with `python bin/tito.py info`\n",
    "\n",
    "Let's get started!"
   ]
  },
  {
   "cell_type": "code",
   "execution_count": null,
   "id": "a8106015",
   "metadata": {},
   "outputs": [],
   "source": [
    "#| default_exp core.utils\n",
    "\n",
    "# Setup imports and environment\n",
    "import sys\n",
    "import platform\n",
    "from datetime import datetime\n",
    "\n",
    "print(\"🔥 TinyTorch Development Environment - Educational Mode\")\n",
    "print(f\"Python {sys.version}\")\n",
    "print(f\"Platform: {platform.system()} {platform.release()}\")\n",
    "print(f\"Started: {datetime.now().strftime('%Y-%m-%d %H:%M:%S')}\")"
   ]
  },
  {
   "cell_type": "markdown",
   "id": "c1919f0e",
   "metadata": {
    "cell_marker": "\"\"\"",
    "lines_to_next_cell": 1
   },
   "source": [
    "## Step 1: Understanding the Module → Package Structure\n",
    "\n",
    "**🎓 Teaching vs. 🔧 Building**: This course has two sides:\n",
    "- **Teaching side**: You work in `modules/setup/setup_dev.ipynb` (learning-focused)\n",
    "- **Building side**: Your code exports to `tinytorch/core/utils.py` (production package)\n",
    "\n",
    "**Key Concept**: The `#| default_exp core.utils` directive at the top tells nbdev to export all `#| export` cells to `tinytorch/core/utils.py`.\n",
    "\n",
    "This separation allows us to:\n",
    "- Organize learning by **concepts** (modules)  \n",
    "- Organize code by **function** (package structure)\n",
    "- Build a real ML framework while learning systematically\n",
    "\n",
    "### 🎯 Your First Challenge: Educational Hello World\n",
    "\n",
    "Let's implement a hello world function that teaches ML concepts. **Students**: Try implementing this yourself first!"
   ]
  },
  {
   "cell_type": "code",
   "execution_count": null,
   "id": "c7117f42",
   "metadata": {
    "lines_to_next_cell": 1
   },
   "outputs": [],
   "source": [
    "#| export\n",
    "def hello_tinytorch():\n",
    "    \"\"\"\n",
    "    A hello world function that introduces TinyTorch concepts.\n",
    "    \n",
    "    Students: Implement a function that returns a welcoming message \n",
    "    mentioning tensors, autograd, and neural networks.\n",
    "    \n",
    "    Hint: Make it inspiring and educational!\n",
    "    \"\"\"\n",
    "    # TODO: Replace this placeholder with an educational greeting\n",
    "    # TODO: Mention what students will build (tensors, autograd, networks)\n",
    "    return \"Hello from TinyTorch! 🔥\"\n",
    "\n",
    "def add_numbers(a, b):\n",
    "    \"\"\"Add two numbers - the foundation of all ML operations!\"\"\"\n",
    "    return a + b"
   ]
  },
  {
   "cell_type": "markdown",
   "id": "67809246",
   "metadata": {
    "cell_marker": "\"\"\"",
    "lines_to_next_cell": 1
   },
   "source": [
    "### 🔍 Instructor Solution (Hidden from Students)\n",
    "\n",
    "Click the cell below to see the complete educational implementation:"
   ]
  },
  {
   "cell_type": "code",
   "execution_count": null,
   "id": "8a7836bc",
   "metadata": {
    "lines_to_next_cell": 1
   },
   "outputs": [],
   "source": [
    "#| hide\n",
    "#| export\n",
    "def hello_tinytorch():\n",
    "    \"\"\"INSTRUCTOR SOLUTION: A comprehensive TinyTorch introduction.\"\"\"\n",
    "    return \"\"\"🔥 Welcome to TinyTorch - Your ML Systems Journey! 🔥\n",
    "\n",
    "What you'll build in this course:\n",
    "📊 Tensors: N-dimensional arrays for data\n",
    "🔄 Autograd: Automatic differentiation engine  \n",
    "🧠 Neural Networks: MLPs, CNNs, and more\n",
    "⚡ Training: Optimizers, loss functions, loops\n",
    "🚀 Production: Deployment and monitoring\n",
    "\n",
    "You're not just learning ML - you're building a complete framework from scratch!\n",
    "Ready to become an ML systems engineer? Let's go! 💪\"\"\""
   ]
  },
  {
   "cell_type": "markdown",
   "id": "7db283f8",
   "metadata": {
    "cell_marker": "\"\"\""
   },
   "source": [
    "### 🧪 Test Your Implementation\n",
    "\n",
    "Run the cell below to test your hello world function:"
   ]
  },
  {
   "cell_type": "code",
   "execution_count": null,
   "id": "3362bc6a",
   "metadata": {},
   "outputs": [],
   "source": [
    "# Test the functions in the notebook\n",
    "print(\"=== Testing Hello World Function ===\")\n",
    "print(hello_tinytorch())\n",
    "print()\n",
    "print(\"=== Testing Basic Operations ===\")\n",
    "print(f\"2 + 3 = {add_numbers(2, 3)}\")\n",
    "print(f\"This is the foundation of neural network math!\")"
   ]
  },
  {
   "cell_type": "markdown",
   "id": "1a78ebd8",
   "metadata": {
    "cell_marker": "\"\"\"",
    "lines_to_next_cell": 1
   },
   "source": [
    "### 🎯 Advanced Challenge: Vector Operations\n",
    "\n",
    "Let's implement something more ML-relevant. Can you implement vector operations that are fundamental to ML?"
   ]
  },
  {
   "cell_type": "code",
   "execution_count": null,
   "id": "42214640",
   "metadata": {
    "lines_to_next_cell": 1
   },
   "outputs": [],
   "source": [
    "#| export\n",
    "#| code-fold: true\n",
    "def vector_add(v1, v2):\n",
    "    \"\"\"\n",
    "    Add two vectors element-wise.\n",
    "    \n",
    "    Students: Implement vector addition\n",
    "    - Check that vectors have same length\n",
    "    - Add corresponding elements  \n",
    "    - Return new vector\n",
    "    \n",
    "    This is fundamental to ML: gradient updates, combining embeddings, etc.\n",
    "    \"\"\"\n",
    "    # TODO: Implement vector addition\n",
    "    # Hint: Use zip() to pair up elements\n",
    "    if len(v1) != len(v2):\n",
    "        raise ValueError(f\"Vector lengths don't match: {len(v1)} vs {len(v2)}\")\n",
    "    \n",
    "    return [a + b for a, b in zip(v1, v2)]\n",
    "\n",
    "def vector_dot(v1, v2):\n",
    "    \"\"\"\n",
    "    Compute dot product of two vectors.\n",
    "    \n",
    "    Students: Implement dot product\n",
    "    - Multiply corresponding elements\n",
    "    - Sum the results\n",
    "    \n",
    "    Dot product is THE core ML operation (linear layers, attention, etc.)\n",
    "    \"\"\"\n",
    "    # TODO: Implement dot product\n",
    "    if len(v1) != len(v2):\n",
    "        raise ValueError(f\"Vector lengths don't match: {len(v1)} vs {len(v2)}\")\n",
    "    \n",
    "    return sum(a * b for a, b in zip(v1, v2))"
   ]
  },
  {
   "cell_type": "code",
   "execution_count": null,
   "id": "2c3abc49",
   "metadata": {},
   "outputs": [],
   "source": [
    "# Test vector operations\n",
    "print(\"=== Vector Operations Test ===\")\n",
    "v1 = [1.0, 2.0, 3.0]\n",
    "v2 = [4.0, 5.0, 6.0]\n",
    "\n",
    "print(f\"Vector 1: {v1}\")\n",
    "print(f\"Vector 2: {v2}\")\n",
    "print(f\"Addition: {vector_add(v1, v2)}\")\n",
    "print(f\"Dot product: {vector_dot(v1, v2)}\")\n",
    "print(\"These operations power all of machine learning!\")"
   ]
  },
  {
   "cell_type": "markdown",
   "id": "90407e30",
   "metadata": {
    "cell_marker": "\"\"\"",
    "lines_to_next_cell": 1
   },
   "source": [
    "## Step 2: ML-Aware System Information\n",
    "\n",
    "Let's create a more sophisticated system class that's ML-aware. This demonstrates object-oriented programming while providing useful ML development information."
   ]
  },
  {
   "cell_type": "code",
   "execution_count": null,
   "id": "d1754aeb",
   "metadata": {
    "lines_to_next_cell": 1
   },
   "outputs": [],
   "source": [
    "#| export\n",
    "class SystemInfo:\n",
    "    \"\"\"ML-aware system information class.\"\"\"\n",
    "    \n",
    "    def __init__(self):\n",
    "        \"\"\"Initialize system information collection.\"\"\"\n",
    "        self.python_version = sys.version_info\n",
    "        self.platform = platform.system()\n",
    "        self.machine = platform.machine()\n",
    "        self._check_ml_libraries()\n",
    "    \n",
    "    def _check_ml_libraries(self):\n",
    "        \"\"\"Check if common ML libraries are available.\"\"\"\n",
    "        self.has_numpy = self._try_import('numpy')\n",
    "        self.has_torch = self._try_import('torch')\n",
    "        self.has_tensorflow = self._try_import('tensorflow')\n",
    "    \n",
    "    def _try_import(self, module_name):\n",
    "        \"\"\"Safely try to import a module.\"\"\"\n",
    "        try:\n",
    "            __import__(module_name)\n",
    "            return True\n",
    "        except ImportError:\n",
    "            return False\n",
    "    \n",
    "    def __str__(self):\n",
    "        \"\"\"Human-readable system information.\"\"\"\n",
    "        return f\"TinyTorch on Python {self.python_version.major}.{self.python_version.minor} ({self.platform} {self.machine})\"\n",
    "    \n",
    "    def is_compatible(self):\n",
    "        \"\"\"Check if system meets minimum requirements.\"\"\"\n",
    "        return self.python_version >= (3, 8)\n",
    "    \n",
    "    def is_ml_ready(self):\n",
    "        \"\"\"Check if system is ready for ML development.\"\"\"\n",
    "        return self.is_compatible() and self.has_numpy\n",
    "    \n",
    "    def ml_status_report(self):\n",
    "        \"\"\"Generate a detailed ML readiness report.\"\"\"\n",
    "        status = []\n",
    "        status.append(\"🔥 TinyTorch System Status\")\n",
    "        status.append(f\"Platform: {self.platform} ({self.machine})\")\n",
    "        status.append(f\"Python: {self.python_version.major}.{self.python_version.minor}.{self.python_version.micro}\")\n",
    "        \n",
    "        # Check requirements\n",
    "        status.append(\"\\n📋 ML Library Status:\")\n",
    "        status.append(f\"  NumPy: {'✅ Available' if self.has_numpy else '❌ Missing'}\")\n",
    "        status.append(f\"  PyTorch: {'✅ Available' if self.has_torch else '❌ Missing (optional)'}\")\n",
    "        status.append(f\"  TensorFlow: {'✅ Available' if self.has_tensorflow else '❌ Missing (optional)'}\")\n",
    "        \n",
    "        # Overall status\n",
    "        ready = self.is_ml_ready()\n",
    "        status.append(f\"\\n🎯 Overall Status: {'✅ Ready for TinyTorch!' if ready else '❌ Missing requirements'}\")\n",
    "        \n",
    "        if ready:\n",
    "            status.append(\"🚀 You're all set to build an ML framework from scratch!\")\n",
    "        else:\n",
    "            status.append(\"💡 Install missing libraries: pip install numpy\")\n",
    "        \n",
    "        return \"\\n\".join(status)"
   ]
  },
  {
   "cell_type": "code",
   "execution_count": null,
   "id": "25ad5b93",
   "metadata": {},
   "outputs": [],
   "source": [
    "# Test the enhanced SystemInfo class\n",
    "print(\"=== Enhanced System Information ===\")\n",
    "info = SystemInfo()\n",
    "print(f\"System: {info}\")\n",
    "print(f\"Compatible: {info.is_compatible()}\")\n",
    "print(f\"ML Ready: {info.is_ml_ready()}\")\n",
    "print()\n",
    "print(info.ml_status_report())"
   ]
  },
  {
   "cell_type": "markdown",
   "id": "e112b053",
   "metadata": {
    "cell_marker": "\"\"\""
   },
   "source": [
    "## Step 3: The NBDev Export Process - Your Educational Superpower\n",
    "\n",
    "Now let's understand how NBDev transforms your notebook into production code while maintaining the educational experience!\n",
    "\n",
    "### 🔄 The Magic of Educational `#| export`\n",
    "\n",
    "Every cell marked with `#| export` becomes part of the `tinytorch` package, but NBDev's educational directives control what students see vs what instructors see."
   ]
  },
  {
   "cell_type": "code",
   "execution_count": null,
   "id": "784fd672",
   "metadata": {},
   "outputs": [],
   "source": [
    "#| code-fold: show\n",
    "print(\"=== NBDev Educational Export Demonstration ===\")\n",
    "print(\"🎓 Learning Side: You work in modules/setup/setup_dev.ipynb\")\n",
    "print(\"🔧 Building Side: Code exports to tinytorch/core/utils.py\")\n",
    "print()\n",
    "print(\"✨ Educational Directives Used:\")\n",
    "print(\"  #|export - Code goes to package\")\n",
    "print(\"  #|hide - Solutions hidden from students\") \n",
    "print(\"  #|code-fold - Collapsible sections\")\n",
    "print(\"  Single source - One notebook, two audiences\")\n",
    "print()\n",
    "print(\"🚀 Try this export command:\")\n",
    "print(\"  python bin/tito.py sync --module setup\")"
   ]
  },
  {
   "cell_type": "markdown",
   "id": "d5ab3fcb",
   "metadata": {
    "cell_marker": "\"\"\"",
    "lines_to_next_cell": 1
   },
   "source": [
    "### 🎯 Advanced ML Preview (Instructor Level)\n",
    "\n",
    "The following cell demonstrates advanced concepts that will be hidden from beginners but visible to instructors:"
   ]
  },
  {
   "cell_type": "code",
   "execution_count": null,
   "id": "f36eb09d",
   "metadata": {},
   "outputs": [],
   "source": [
    "#| hide\n",
    "#| filter_stream ImportWarning DeprecationWarning\n",
    "def advanced_ml_preview():\n",
    "    \"\"\"\n",
    "    ADVANCED CONTENT - Hidden from beginners\n",
    "    \n",
    "    This demonstrates how to hide complex implementations\n",
    "    while still teaching the concepts progressively.\n",
    "    \"\"\"\n",
    "    import math\n",
    "    \n",
    "    def sigmoid(x):\n",
    "        \"\"\"Sigmoid activation function - fundamental to neural networks.\"\"\"\n",
    "        return 1 / (1 + math.exp(-x))\n",
    "    \n",
    "    def relu(x):\n",
    "        \"\"\"ReLU activation function - most common in modern ML.\"\"\"\n",
    "        return max(0, x)\n",
    "    \n",
    "    # Demonstrate activation functions\n",
    "    test_vals = [-2, -1, 0, 1, 2]\n",
    "    print(\"🔬 Activation Functions Preview:\")\n",
    "    for x in test_vals:\n",
    "        print(f\"  x={x:2}: sigmoid={sigmoid(x):.3f}, relu={relu(x):.3f}\")\n",
    "\n",
    "# Show preview to instructors\n",
    "print(\"🔬 Advanced ML Preview (hidden from beginners):\")\n",
    "advanced_ml_preview()"
   ]
  },
  {
   "cell_type": "markdown",
   "id": "26100d72",
   "metadata": {
    "cell_marker": "\"\"\"",
    "lines_to_next_cell": 1
   },
   "source": [
    "## Step 4: Testing and Quality Assurance\n",
    "\n",
    "Quality code is essential for ML systems. Let's test our implementations!"
   ]
  },
  {
   "cell_type": "code",
   "execution_count": null,
   "id": "8e871650",
   "metadata": {},
   "outputs": [],
   "source": [
    "def run_setup_tests():\n",
    "    \"\"\"Run comprehensive tests on our setup module functions.\"\"\"\n",
    "    print(\"=== Running Setup Module Tests ===\")\n",
    "    \n",
    "    # Test basic functions\n",
    "    assert hello_tinytorch() is not None, \"hello_tinytorch should return something\"\n",
    "    assert len(hello_tinytorch()) > 20, \"hello_tinytorch should be educational\"\n",
    "    assert add_numbers(2, 3) == 5, \"Addition should work correctly\"\n",
    "    \n",
    "    # Test vector operations\n",
    "    v1, v2 = [1.0, 2.0], [3.0, 4.0]\n",
    "    assert vector_add(v1, v2) == [4.0, 6.0], \"Vector addition should work\"\n",
    "    assert vector_dot(v1, v2) == 11.0, \"Dot product should work\"\n",
    "    \n",
    "    # Test system info\n",
    "    info = SystemInfo()\n",
    "    assert isinstance(info.ml_status_report(), str), \"Status report should be string\"\n",
    "    assert info.is_compatible(), \"Should be compatible with Python 3.8+\"\n",
    "    \n",
    "    print(\"✅ All tests passed! Your setup module is working correctly.\")\n",
    "    print(\"📚 Ready for production ML systems development!\")\n",
    "    return True\n",
    "\n",
    "# Run the comprehensive tests\n",
    "run_setup_tests()"
   ]
  },
  {
   "cell_type": "markdown",
   "id": "485d6e37",
   "metadata": {
    "cell_marker": "\"\"\""
   },
   "source": [
    "## Step 5: Export and Build Process\n",
    "\n",
    "Now let's export our code! In your terminal, run:\n",
    "\n",
    "```bash\n",
    "python bin/tito.py sync --module setup\n",
    "```\n",
    "\n",
    "This will export the code marked with `#| export` to `tinytorch/core/utils.py`.\n",
    "\n",
    "**What happens during educational export:**\n",
    "1. NBDev scans this notebook for `#| export` cells\n",
    "2. **Students see**: Exercise versions with TODOs and hints\n",
    "3. **Instructors see**: Complete solutions with `#|hide` directive\n",
    "4. **Package gets**: The complete implementation (instructor version)\n",
    "5. **Documentation shows**: Educational progression with hide/show buttons\n",
    "\n",
    "**🔍 Verification**: After export, check `tinytorch/core/utils.py` - you'll see the complete functions with auto-generated headers!"
   ]
  },
  {
   "cell_type": "markdown",
   "id": "9811f282",
   "metadata": {
    "cell_marker": "\"\"\""
   },
   "source": [
    "## Step 6: Run Tests\n",
    "\n",
    "After exporting, run the tests:\n",
    "\n",
    "```bash\n",
    "python bin/tito.py test --module setup\n",
    "```\n",
    "\n",
    "This will run all tests for the setup module and verify your implementation works correctly.\n",
    "\n",
    "## Step 7: Check Your Progress\n",
    "\n",
    "See your overall progress:\n",
    "\n",
    "```bash\n",
    "python bin/tito.py info\n",
    "```\n",
    "\n",
    "This shows which modules are complete and which are pending."
   ]
  },
  {
   "cell_type": "markdown",
   "id": "22686369",
   "metadata": {
    "cell_marker": "\"\"\""
   },
   "source": [
    "## 🎉 Congratulations! You've Mastered NBDev Educational Features\n",
    "\n",
    "### ✨ What You've Accomplished\n",
    "\n",
    "- ✅ **NBDev Educational Directives**: Used `#|hide`, `#|code-fold`, `#|filter_stream`\n",
    "- ✅ **Progressive Learning**: Started simple, built to ML complexity  \n",
    "- ✅ **Single Source Truth**: One notebook serves students AND instructors\n",
    "- ✅ **ML-Relevant Code**: Vector operations, activation previews, system checks\n",
    "- ✅ **Quality Assurance**: Comprehensive testing approach\n",
    "- ✅ **Production Workflow**: Export to package with educational metadata\n",
    "\n",
    "### 🔄 The Educational TinyTorch Development Rhythm\n",
    "\n",
    "1. **Write** code with educational directives (`#|hide` for solutions)\n",
    "2. **Test** implementations in notebook (both student and instructor versions)\n",
    "3. **Export** with `python bin/tito.py sync --module setup`\n",
    "4. **Verify** with `python bin/tito.py test --module setup`\n",
    "5. **Progress** with `python bin/tito.py info`\n",
    "\n",
    "### 🚀 Next Steps: Ready for Real ML Systems\n",
    "\n",
    "You're now ready for **Module 1: Tensor** where you'll build the foundation of all ML systems using this same educational pattern!\n",
    "\n",
    "**What's Coming:**\n",
    "- 📊 **Tensors**: N-dimensional arrays with educational progression\n",
    "- 🔄 **Autograd**: Automatic differentiation with hidden complexity\n",
    "- 🧠 **Networks**: MLPs, CNNs with step-by-step revelation\n",
    "- ⚡ **Training**: End-to-end learning with instructor solutions\n",
    "\n",
    "### 💡 Educational Development Tips\n",
    "\n",
    "- **Use `#|hide` strategically** - provide complete solutions but let students try first\n",
    "- **Progressive revelation** - start simple, build complexity with fold/hide\n",
    "- **Test both versions** - ensure student stubs and instructor solutions work\n",
    "- **Single source truth** - maintain one notebook, serve two audiences\n",
    "- **Quality first** - educational code should be production-ready\n",
    "\n",
    "**Happy building, ML educator! 🔥**"
   ]
  }
 ],
 "metadata": {
  "jupytext": {
   "main_language": "python"
  }
 },
 "nbformat": 4,
 "nbformat_minor": 5
}
