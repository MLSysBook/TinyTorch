{
 "cells": [
  {
   "cell_type": "markdown",
   "id": "72ab77e5",
   "metadata": {
    "cell_marker": "\"\"\""
   },
   "source": [
    "# Module 0: Setup - TinyTorch Development Workflow 🔥\n",
    "\n",
    "Welcome to TinyTorch! This module demonstrates NBDev's educational features while teaching you the development workflow.\n",
    "\n",
    "## 🎯 Learning Goals\n",
    "- Master the NBDev notebook-to-Python workflow\n",
    "- Write your first TinyTorch code with educational directives\n",
    "- Understand progressive learning with NBDev features\n",
    "- Run tests and use CLI tools effectively\n",
    "- Build confidence with the development rhythm\n",
    "\n",
    "## ✨ NBDev Educational Features You'll Learn\n",
    "- `#|hide` - Hidden solutions and advanced content\n",
    "- `#|code-fold` - Collapsible code sections\n",
    "- `#|filter_stream` - Clean output\n",
    "- Progressive revelation of complexity\n",
    "\n",
    "Let's start your ML systems journey! 🚀"
   ]
  },
  {
   "cell_type": "code",
   "execution_count": null,
   "id": "e38cb272",
   "metadata": {},
   "outputs": [],
   "source": [
    "#| default_exp core.utils"
   ]
  },
  {
   "cell_type": "markdown",
   "id": "af767d7c",
   "metadata": {
    "cell_marker": "\"\"\""
   },
   "source": [
    "## Step 1: Environment Setup and Exploration\n",
    "\n",
    "First, let's explore your development environment and understand NBDev's power."
   ]
  },
  {
   "cell_type": "code",
   "execution_count": null,
   "id": "7da7f880",
   "metadata": {},
   "outputs": [],
   "source": [
    "#| export\n",
    "#| filter_stream FutureWarning DeprecationWarning\n",
    "import sys\n",
    "import platform\n",
    "from datetime import datetime\n",
    "from typing import Dict, List, Any\n",
    "\n",
    "print(\"🔥 TinyTorch Development Environment - NBDev Educational Version\")\n",
    "print(f\"Python {sys.version}\")\n",
    "print(f\"Platform: {platform.system()} {platform.release()}\")\n",
    "print(f\"Started: {datetime.now().strftime('%Y-%m-%d %H:%M:%S')}\")\n",
    "print(\"Ready to explore NBDev educational features!\")"
   ]
  },
  {
   "cell_type": "markdown",
   "id": "71b1c525",
   "metadata": {
    "cell_marker": "\"\"\"",
    "lines_to_next_cell": 1
   },
   "source": [
    "### 🎓 Your First Challenge: Hello World with a Twist\n",
    "\n",
    "Instead of a boring \"Hello World\", let's create something that actually teaches you about ML systems!\n",
    "\n",
    "**Task**: Implement a function that introduces TinyTorch concepts."
   ]
  },
  {
   "cell_type": "code",
   "execution_count": null,
   "id": "5dcbc425",
   "metadata": {
    "lines_to_next_cell": 1
   },
   "outputs": [],
   "source": [
    "#| code-fold: show\n",
    "def hello_tinytorch() -> str:\n",
    "    \"\"\"\n",
    "    A more educational hello world for TinyTorch.\n",
    "    \n",
    "    TODO: Make this function return information about TinyTorch's capabilities\n",
    "    - Mention tensors, autograd, neural networks\n",
    "    - Make it encouraging for beginners\n",
    "    - Add some ML terminology\n",
    "    \"\"\"\n",
    "    # 🚨 Try implementing this yourself first!\n",
    "    return \"Hello from TinyTorch! 🔥\"  # This is just a placeholder"
   ]
  },
  {
   "cell_type": "markdown",
   "id": "1d82a520",
   "metadata": {
    "cell_marker": "\"\"\"",
    "lines_to_next_cell": 1
   },
   "source": [
    "### 🔍 Complete Solution (Hidden by Default)\n",
    "\n",
    "Click below to see a more sophisticated implementation:"
   ]
  },
  {
   "cell_type": "code",
   "execution_count": null,
   "id": "ad5b6753",
   "metadata": {},
   "outputs": [],
   "source": [
    "#| hide\n",
    "#| exports\n",
    "def hello_tinytorch_complete() -> str:\n",
    "    \"\"\"\n",
    "    COMPLETE SOLUTION - Hidden from students initially.\n",
    "    \n",
    "    A comprehensive introduction to TinyTorch that teaches while greeting.\n",
    "    \"\"\"\n",
    "    return \"\"\"\n",
    "🔥 Welcome to TinyTorch - Your ML Systems Journey Begins! 🔥\n",
    "\n",
    "What you'll build in this course:\n",
    "📊 Tensors: N-dimensional arrays for data\n",
    "🔄 Autograd: Automatic differentiation engine  \n",
    "🧠 Neural Networks: MLPs, CNNs, and more\n",
    "⚡ Training: Optimizers, loss functions, loops\n",
    "🚀 Production: Deployment and monitoring\n",
    "\n",
    "You're not just learning ML - you're building a complete framework from scratch!\n",
    "Ready to become an ML systems engineer? Let's go! 💪\n",
    "    \"\"\".strip()\n",
    "\n",
    "# Update the main function with the complete implementation\n",
    "hello_tinytorch.__code__ = hello_tinytorch_complete.__code__"
   ]
  },
  {
   "cell_type": "markdown",
   "id": "65361c7e",
   "metadata": {
    "cell_marker": "\"\"\""
   },
   "source": [
    "### 🧪 Test Your Implementation"
   ]
  },
  {
   "cell_type": "code",
   "execution_count": null,
   "id": "bda49997",
   "metadata": {},
   "outputs": [],
   "source": [
    "print(hello_tinytorch())"
   ]
  },
  {
   "cell_type": "markdown",
   "id": "f1ce8b14",
   "metadata": {
    "cell_marker": "\"\"\"",
    "lines_to_next_cell": 1
   },
   "source": [
    "## Step 2: Basic Operations with Progressive Learning\n",
    "\n",
    "Let's implement some basic utility functions. We'll start simple and build complexity."
   ]
  },
  {
   "cell_type": "code",
   "execution_count": null,
   "id": "e577ddf6",
   "metadata": {
    "lines_to_next_cell": 1
   },
   "outputs": [],
   "source": [
    "#| export\n",
    "def add_numbers(a: float, b: float) -> float:\n",
    "    \"\"\"Add two numbers - the foundation of all ML operations!\"\"\"\n",
    "    return a + b\n",
    "\n",
    "def multiply_numbers(a: float, b: float) -> float:\n",
    "    \"\"\"Multiply two numbers - essential for neural network forward passes!\"\"\"\n",
    "    return a * b"
   ]
  },
  {
   "cell_type": "code",
   "execution_count": null,
   "id": "27bb2727",
   "metadata": {},
   "outputs": [],
   "source": [
    "# Test basic operations\n",
    "print(\"=== Basic Operations ===\")\n",
    "print(f\"Addition: 2 + 3 = {add_numbers(2, 3)}\")\n",
    "print(f\"Multiplication: 4 × 5 = {multiply_numbers(4, 5)}\")"
   ]
  },
  {
   "cell_type": "markdown",
   "id": "17af6db4",
   "metadata": {
    "cell_marker": "\"\"\"",
    "lines_to_next_cell": 1
   },
   "source": [
    "### 🎯 Advanced Challenge: Vector Operations\n",
    "\n",
    "Now let's implement something more ML-relevant. Can you implement vector operations?"
   ]
  },
  {
   "cell_type": "code",
   "execution_count": null,
   "id": "43efc49a",
   "metadata": {},
   "outputs": [],
   "source": [
    "#| code-fold: true\n",
    "def vector_add(v1: List[float], v2: List[float]) -> List[float]:\n",
    "    \"\"\"\n",
    "    Add two vectors element-wise.\n",
    "    \n",
    "    This is a fundamental operation in ML - vectors represent features,\n",
    "    and vector addition is used everywhere from gradient updates to\n",
    "    combining embeddings.\n",
    "    \n",
    "    TODO: Implement vector addition\n",
    "    - Check that vectors have same length\n",
    "    - Add corresponding elements\n",
    "    - Return new vector\n",
    "    \"\"\"\n",
    "    # Implementation hidden but expandable\n",
    "    if len(v1) != len(v2):\n",
    "        raise ValueError(f\"Vector lengths don't match: {len(v1)} vs {len(v2)}\")\n",
    "    \n",
    "    return [a + b for a, b in zip(v1, v2)]\n",
    "\n",
    "def vector_dot(v1: List[float], v2: List[float]) -> float:\n",
    "    \"\"\"\n",
    "    Compute dot product of two vectors.\n",
    "    \n",
    "    Dot product is THE fundamental operation in ML:\n",
    "    - Linear layers: weights · inputs\n",
    "    - Attention: queries · keys  \n",
    "    - Similarity: compare embeddings\n",
    "    \"\"\"\n",
    "    if len(v1) != len(v2):\n",
    "        raise ValueError(f\"Vector lengths don't match: {len(v1)} vs {len(v2)}\")\n",
    "    \n",
    "    return sum(a * b for a, b in zip(v1, v2))\n",
    "\n",
    "# Export the vector functions\n",
    "hello_tinytorch.__code__ = hello_tinytorch_complete.__code__"
   ]
  },
  {
   "cell_type": "markdown",
   "id": "ce0f837d",
   "metadata": {
    "cell_marker": "\"\"\""
   },
   "source": [
    "### 🧪 Test Vector Operations"
   ]
  },
  {
   "cell_type": "code",
   "execution_count": null,
   "id": "6ecacfa1",
   "metadata": {},
   "outputs": [],
   "source": [
    "print(\"=== Vector Operations ===\")\n",
    "v1 = [1.0, 2.0, 3.0]\n",
    "v2 = [4.0, 5.0, 6.0]\n",
    "\n",
    "print(f\"Vector 1: {v1}\")\n",
    "print(f\"Vector 2: {v2}\")\n",
    "print(f\"Addition: {vector_add(v1, v2)}\")\n",
    "print(f\"Dot product: {vector_dot(v1, v2)}\")"
   ]
  },
  {
   "cell_type": "markdown",
   "id": "182e1860",
   "metadata": {
    "cell_marker": "\"\"\"",
    "lines_to_next_cell": 1
   },
   "source": [
    "## Step 3: System Information Class - Building ML-Aware Tools\n",
    "\n",
    "Let's create a more sophisticated system information class that's ML-aware."
   ]
  },
  {
   "cell_type": "code",
   "execution_count": null,
   "id": "ddbf1075",
   "metadata": {
    "lines_to_next_cell": 1
   },
   "outputs": [],
   "source": [
    "#| export\n",
    "class TinyTorchSystemInfo:\n",
    "    \"\"\"\n",
    "    ML-aware system information class.\n",
    "    \n",
    "    This class demonstrates object-oriented programming while\n",
    "    providing useful information for ML development.\n",
    "    \"\"\"\n",
    "    \n",
    "    def __init__(self):\n",
    "        \"\"\"Initialize system information collection.\"\"\"\n",
    "        self.python_version = sys.version_info\n",
    "        self.platform = platform.system()\n",
    "        self.machine = platform.machine()\n",
    "        self._check_ml_libraries()\n",
    "    \n",
    "    def _check_ml_libraries(self) -> None:\n",
    "        \"\"\"Check if common ML libraries are available.\"\"\"\n",
    "        self.has_numpy = self._try_import('numpy')\n",
    "        self.has_torch = self._try_import('torch')\n",
    "        self.has_tensorflow = self._try_import('tensorflow')\n",
    "    \n",
    "    def _try_import(self, module_name: str) -> bool:\n",
    "        \"\"\"Safely try to import a module.\"\"\"\n",
    "        try:\n",
    "            __import__(module_name)\n",
    "            return True\n",
    "        except ImportError:\n",
    "            return False\n",
    "    \n",
    "    def __str__(self) -> str:\n",
    "        \"\"\"Human-readable system information.\"\"\"\n",
    "        return f\"TinyTorch on Python {self.python_version.major}.{self.python_version.minor} ({self.platform} {self.machine})\"\n",
    "    \n",
    "    def is_ml_ready(self) -> bool:\n",
    "        \"\"\"Check if system is ready for ML development.\"\"\"\n",
    "        return (\n",
    "            self.python_version >= (3, 8) and\n",
    "            self.has_numpy\n",
    "        )\n",
    "    \n",
    "    def ml_status_report(self) -> str:\n",
    "        \"\"\"Generate a detailed ML readiness report.\"\"\"\n",
    "        status = []\n",
    "        status.append(f\"🔥 TinyTorch System Status\")\n",
    "        status.append(f\"Platform: {self.platform} ({self.machine})\")\n",
    "        status.append(f\"Python: {self.python_version.major}.{self.python_version.minor}.{self.python_version.micro}\")\n",
    "        \n",
    "        # Check requirements\n",
    "        status.append(\"\\n📋 ML Library Status:\")\n",
    "        status.append(f\"  NumPy: {'✅ Available' if self.has_numpy else '❌ Missing'}\")\n",
    "        status.append(f\"  PyTorch: {'✅ Available' if self.has_torch else '❌ Missing (optional)'}\")\n",
    "        status.append(f\"  TensorFlow: {'✅ Available' if self.has_tensorflow else '❌ Missing (optional)'}\")\n",
    "        \n",
    "        # Overall status\n",
    "        ready = self.is_ml_ready()\n",
    "        status.append(f\"\\n🎯 Overall Status: {'✅ Ready for TinyTorch!' if ready else '❌ Missing requirements'}\")\n",
    "        \n",
    "        if ready:\n",
    "            status.append(\"🚀 You're all set to build an ML framework from scratch!\")\n",
    "        else:\n",
    "            status.append(\"💡 Install missing libraries: pip install numpy\")\n",
    "        \n",
    "        return \"\\n\".join(status)"
   ]
  },
  {
   "cell_type": "markdown",
   "id": "4e9656c0",
   "metadata": {
    "cell_marker": "\"\"\""
   },
   "source": [
    "### 🧪 Test System Information"
   ]
  },
  {
   "cell_type": "code",
   "execution_count": null,
   "id": "1d635130",
   "metadata": {},
   "outputs": [],
   "source": [
    "#| filter_stream ImportWarning\n",
    "print(\"=== System Information ===\")\n",
    "info = TinyTorchSystemInfo()\n",
    "print(info)\n",
    "print(f\"ML Ready: {info.is_ml_ready()}\")\n",
    "print(\"\\n\" + info.ml_status_report())"
   ]
  },
  {
   "cell_type": "markdown",
   "id": "85d70d5f",
   "metadata": {
    "cell_marker": "\"\"\""
   },
   "source": [
    "## Step 4: The NBDev Export Process - Your Superpower\n",
    "\n",
    "Now let's understand how NBDev transforms your notebook into production code!\n",
    "\n",
    "### 🔄 The Magic of `#| export`\n",
    "\n",
    "Every cell marked with `#| export` becomes part of the `tinytorch` package.\n",
    "This is how we separate **learning** (notebooks) from **building** (package)."
   ]
  },
  {
   "cell_type": "code",
   "execution_count": null,
   "id": "d28091c9",
   "metadata": {},
   "outputs": [],
   "source": [
    "#| code-fold: show\n",
    "print(\"=== NBDev Export Demonstration ===\")\n",
    "print(\"🎓 Learning Side: You work in modules/setup/setup_nbdev_educational.py\")\n",
    "print(\"🔧 Building Side: Code exports to tinytorch/core/utils.py\")\n",
    "print()\n",
    "print(\"✨ NBDev Features Demonstrated:\")\n",
    "print(\"  - #|export: Code goes to package\")\n",
    "print(\"  - #|hide: Solutions hidden from students\") \n",
    "print(\"  - #|code-fold: Collapsible sections\")\n",
    "print(\"  - #|filter_stream: Clean output\")\n",
    "print()\n",
    "print(\"🚀 Try this export command:\")\n",
    "print(\"  python bin/tito.py sync --module setup\")"
   ]
  },
  {
   "cell_type": "markdown",
   "id": "2d234428",
   "metadata": {
    "cell_marker": "\"\"\"",
    "lines_to_next_cell": 1
   },
   "source": [
    "### 🎯 Advanced Export Features (Instructor Level)\n",
    "\n",
    "These advanced features show NBDev's real power:"
   ]
  },
  {
   "cell_type": "code",
   "execution_count": null,
   "id": "6ea3f1b4",
   "metadata": {},
   "outputs": [],
   "source": [
    "#| hide\n",
    "def advanced_ml_function():\n",
    "    \"\"\"\n",
    "    ADVANCED CONTENT - Hidden from beginners\n",
    "    \n",
    "    This demonstrates how to hide complex implementations\n",
    "    while still teaching the concepts progressively.\n",
    "    \"\"\"\n",
    "    import math\n",
    "    \n",
    "    def sigmoid(x: float) -> float:\n",
    "        \"\"\"Sigmoid activation function - fundamental to neural networks.\"\"\"\n",
    "        return 1 / (1 + math.exp(-x))\n",
    "    \n",
    "    def relu(x: float) -> float:\n",
    "        \"\"\"ReLU activation function - most common in modern ML.\"\"\"\n",
    "        return max(0, x)\n",
    "    \n",
    "    # Demonstrate activation functions\n",
    "    test_vals = [-2, -1, 0, 1, 2]\n",
    "    print(\"Activation Functions Preview:\")\n",
    "    for x in test_vals:\n",
    "        print(f\"  x={x:2}: sigmoid={sigmoid(x):.3f}, relu={relu(x):.3f}\")\n",
    "\n",
    "# Only show this to advanced students\n",
    "print(\"🔬 Advanced ML Preview (hidden from beginners):\")\n",
    "advanced_ml_function()"
   ]
  },
  {
   "cell_type": "markdown",
   "id": "f17c31fe",
   "metadata": {
    "cell_marker": "\"\"\"",
    "lines_to_next_cell": 1
   },
   "source": [
    "## Step 5: Testing and Quality Assurance\n",
    "\n",
    "Quality code is essential for ML systems. Let's test our implementations!"
   ]
  },
  {
   "cell_type": "code",
   "execution_count": null,
   "id": "f8707d74",
   "metadata": {},
   "outputs": [],
   "source": [
    "def run_setup_tests():\n",
    "    \"\"\"Run basic tests on our setup module functions.\"\"\"\n",
    "    print(\"=== Running Setup Module Tests ===\")\n",
    "    \n",
    "    # Test basic functions\n",
    "    assert hello_tinytorch() is not None, \"hello_tinytorch should return something\"\n",
    "    assert add_numbers(2, 3) == 5, \"Addition should work correctly\"\n",
    "    assert multiply_numbers(4, 5) == 20, \"Multiplication should work correctly\"\n",
    "    \n",
    "    # Test vector operations\n",
    "    v1, v2 = [1.0, 2.0], [3.0, 4.0]\n",
    "    assert vector_add(v1, v2) == [4.0, 6.0], \"Vector addition should work\"\n",
    "    assert vector_dot(v1, v2) == 11.0, \"Dot product should work\"\n",
    "    \n",
    "    # Test system info\n",
    "    info = TinyTorchSystemInfo()\n",
    "    assert isinstance(info.ml_status_report(), str), \"Status report should be string\"\n",
    "    \n",
    "    print(\"✅ All tests passed! Your setup module is working correctly.\")\n",
    "    return True\n",
    "\n",
    "# Run the tests\n",
    "run_setup_tests()"
   ]
  },
  {
   "cell_type": "markdown",
   "id": "6a179030",
   "metadata": {
    "cell_marker": "\"\"\""
   },
   "source": [
    "## 🎉 Congratulations! You've Mastered NBDev + TinyTorch Basics\n",
    "\n",
    "### ✨ What You've Accomplished\n",
    "\n",
    "- ✅ **NBDev Educational Features**: Used `#|hide`, `#|code-fold`, `#|filter_stream`\n",
    "- ✅ **Progressive Learning**: Started simple, built to complexity  \n",
    "- ✅ **ML-Relevant Code**: Vector operations, system checks, activations\n",
    "- ✅ **Quality Assurance**: Comprehensive testing approach\n",
    "- ✅ **Production Workflow**: Export to package structure\n",
    "\n",
    "### 🔄 The TinyTorch Development Rhythm\n",
    "\n",
    "1. **Write** code in notebooks with educational directives\n",
    "2. **Export** with `python bin/tito.py sync --module setup`\n",
    "3. **Test** with `python bin/tito.py test --module setup`  \n",
    "4. **Verify** with `python bin/tito.py info`\n",
    "\n",
    "### 🚀 Next Steps: Ready for Real ML Systems\n",
    "\n",
    "You're now ready for **Module 1: Tensor** where you'll build the foundation of all ML systems!\n",
    "\n",
    "**What's Coming:**\n",
    "- 📊 **Tensors**: N-dimensional arrays with shape management\n",
    "- 🔄 **Autograd**: Automatic differentiation for training\n",
    "- 🧠 **Networks**: MLPs, CNNs, attention mechanisms\n",
    "- ⚡ **Training**: End-to-end learning pipelines\n",
    "\n",
    "### 💡 Pro Tips for Your Journey\n",
    "\n",
    "- **Always test in notebooks first** - catch issues early\n",
    "- **Use NBDev directives strategically** - control learning pace\n",
    "- **Read error messages carefully** - they're designed to teach\n",
    "- **Celebrate small wins** - building ML systems is challenging but rewarding!\n",
    "\n",
    "**Happy building, ML engineer! 🔥**"
   ]
  },
  {
   "cell_type": "code",
   "execution_count": null,
   "id": "739f0066",
   "metadata": {},
   "outputs": [],
   "source": [
    "#| hide_line\n",
    "print(\"🎓 Instructor note: Students have completed the setup successfully!\")\n",
    "print(\"🎯 Ready to move to tensor implementation - the real fun begins!\") "
   ]
  }
 ],
 "metadata": {
  "jupytext": {
   "cell_metadata_filter": "-all",
   "main_language": "python",
   "notebook_metadata_filter": "-all"
  }
 },
 "nbformat": 4,
 "nbformat_minor": 5
}
