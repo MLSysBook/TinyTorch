{
 "cells": [
  {
   "cell_type": "markdown",
   "id": "9841ccaf",
   "metadata": {
    "cell_marker": "\"\"\""
   },
   "source": [
    "# Module 1: Tensor - Core Data Structure with NBDev Educational Features\n",
    "\n",
    "Welcome to the Tensor module! This demonstrates NBDev's powerful built-in educational capabilities.\n",
    "\n",
    "## Learning Goals\n",
    "- Understand tensors as N-dimensional arrays with ML-specific operations\n",
    "- Implement a complete Tensor class with arithmetic operations\n",
    "- Handle shape management, data types, and memory layout\n",
    "- **See NBDev's educational directives in action**\n",
    "\n",
    "## NBDev Educational Features Demonstrated\n",
    "- `#|hide` - Complete solutions hidden by default\n",
    "- `#|code-fold: show` - Code visible but collapsible\n",
    "- `#|filter_stream` - Clean output by filtering warnings\n",
    "- Cell tags for instructor/student modes\n",
    "\n",
    "This module builds the core data structure that all other TinyTorch components will use."
   ]
  },
  {
   "cell_type": "code",
   "execution_count": null,
   "id": "ddc40ebc",
   "metadata": {},
   "outputs": [],
   "source": [
    "#| default_exp core.tensor"
   ]
  },
  {
   "cell_type": "markdown",
   "id": "49bc9302",
   "metadata": {
    "cell_marker": "\"\"\""
   },
   "source": [
    "## Setup and Imports\n",
    "\n",
    "First, let's set up our imports and check our environment."
   ]
  },
  {
   "cell_type": "code",
   "execution_count": null,
   "id": "40f845de",
   "metadata": {},
   "outputs": [],
   "source": [
    "#| export\n",
    "#| filter_stream FutureWarning DeprecationWarning\n",
    "import numpy as np\n",
    "import sys\n",
    "from typing import Union, List, Tuple, Optional, Any\n",
    "\n",
    "print(\"🔥 TinyTorch Tensor Module - NBDev Educational Version\")\n",
    "print(f\"NumPy version: {np.__version__}\")\n",
    "print(f\"Python version: {sys.version_info.major}.{sys.version_info.minor}\")\n",
    "print(\"Ready to build tensors with educational directives!\")"
   ]
  },
  {
   "cell_type": "markdown",
   "id": "cd455a2c",
   "metadata": {
    "cell_marker": "\"\"\"",
    "lines_to_next_cell": 1
   },
   "source": [
    "## Step 1: What is a Tensor?\n",
    "\n",
    "A **tensor** is an N-dimensional array with ML-specific operations. Think of it as:\n",
    "- **Scalar** (0D): A single number - `5.0`\n",
    "- **Vector** (1D): A list of numbers - `[1, 2, 3]`  \n",
    "- **Matrix** (2D): A 2D array - `[[1, 2], [3, 4]]`\n",
    "- **Higher dimensions**: 3D, 4D, etc. for images, video, batches\n",
    "\n",
    "### 🎓 Your Task\n",
    "Implement the Tensor class initialization. The solution is hidden below - try it yourself first!"
   ]
  },
  {
   "cell_type": "code",
   "execution_count": null,
   "id": "afcea198",
   "metadata": {
    "lines_to_next_cell": 1
   },
   "outputs": [],
   "source": [
    "#| export\n",
    "#| code-fold: show\n",
    "class Tensor:\n",
    "    \"\"\"\n",
    "    TinyTorch Tensor: N-dimensional array with ML operations.\n",
    "    \n",
    "    The fundamental data structure for all TinyTorch operations.\n",
    "    Wraps NumPy arrays with ML-specific functionality.\n",
    "    \"\"\"\n",
    "    \n",
    "    def __init__(self, data: Union[int, float, List, np.ndarray], dtype: Optional[str] = None):\n",
    "        \"\"\"\n",
    "        Create a new tensor from data.\n",
    "        \n",
    "        Args:\n",
    "            data: Input data (scalar, list, or numpy array)\n",
    "            dtype: Data type ('float32', 'int32', etc.). Defaults to auto-detect.\n",
    "        \n",
    "        TODO: Implement the initialization logic\n",
    "        - Convert input to numpy array\n",
    "        - Handle different input types (scalar, list, ndarray)\n",
    "        - Set appropriate dtype\n",
    "        \"\"\"\n",
    "        # 🚨 SOLUTION BELOW - Try implementing first!\n",
    "        pass  # Remove this and implement\n",
    "    \n",
    "    @property \n",
    "    def data(self) -> np.ndarray:\n",
    "        \"\"\"Access underlying numpy array.\"\"\"\n",
    "        # TODO: Return the internal numpy array\n",
    "        pass\n",
    "    \n",
    "    @property\n",
    "    def shape(self) -> Tuple[int, ...]:\n",
    "        \"\"\"Get tensor shape.\"\"\"\n",
    "        # TODO: Return the shape of the internal array\n",
    "        pass\n",
    "    \n",
    "    @property  \n",
    "    def size(self) -> int:\n",
    "        \"\"\"Get total number of elements.\"\"\"\n",
    "        # TODO: Return total number of elements\n",
    "        pass\n",
    "    \n",
    "    @property\n",
    "    def dtype(self) -> np.dtype:\n",
    "        \"\"\"Get data type as numpy dtype.\"\"\"\n",
    "        # TODO: Return the data type\n",
    "        pass\n",
    "    \n",
    "    def __repr__(self) -> str:\n",
    "        \"\"\"String representation.\"\"\"\n",
    "        # TODO: Return a nice string representation\n",
    "        pass"
   ]
  },
  {
   "cell_type": "markdown",
   "id": "2ba5bff1",
   "metadata": {
    "cell_marker": "\"\"\"",
    "lines_to_next_cell": 1
   },
   "source": [
    "### 🔍 Complete Solution (Hidden by Default)\n",
    "\n",
    "Click the button below to see the complete implementation:"
   ]
  },
  {
   "cell_type": "code",
   "execution_count": null,
   "id": "31f5de1a",
   "metadata": {},
   "outputs": [],
   "source": [
    "#| hide\n",
    "#| exports\n",
    "class TensorComplete:\n",
    "    \"\"\"\n",
    "    COMPLETE SOLUTION - This is hidden from students by default.\n",
    "    \n",
    "    Instructors can see this, students see the stub above.\n",
    "    \"\"\"\n",
    "    \n",
    "    def __init__(self, data: Union[int, float, List, np.ndarray], dtype: Optional[str] = None):\n",
    "        \"\"\"Complete initialization implementation.\"\"\"\n",
    "        # Convert input to numpy array\n",
    "        if isinstance(data, (int, float, np.number)):\n",
    "            # Handle Python and NumPy scalars\n",
    "            if dtype is None:\n",
    "                # Auto-detect type: int for integers, float32 for floats\n",
    "                if isinstance(data, int) or (isinstance(data, np.number) and np.issubdtype(type(data), np.integer)):\n",
    "                    dtype = 'int32'\n",
    "                else:\n",
    "                    dtype = 'float32'\n",
    "            self._data = np.array(data, dtype=dtype)\n",
    "        elif isinstance(data, list):\n",
    "            # Let NumPy auto-detect type, then convert if needed\n",
    "            temp_array = np.array(data)\n",
    "            if dtype is None:\n",
    "                # Keep NumPy's auto-detected type, but prefer common ML types\n",
    "                if np.issubdtype(temp_array.dtype, np.integer):\n",
    "                    dtype = 'int32'\n",
    "                elif np.issubdtype(temp_array.dtype, np.floating):\n",
    "                    dtype = 'float32'\n",
    "                else:\n",
    "                    dtype = temp_array.dtype\n",
    "            self._data = temp_array.astype(dtype)\n",
    "        elif isinstance(data, np.ndarray):\n",
    "            self._data = data.astype(dtype or data.dtype)\n",
    "        else:\n",
    "            raise TypeError(f\"Cannot create tensor from {type(data)}\")\n",
    "    \n",
    "    @property\n",
    "    def data(self) -> np.ndarray:\n",
    "        return self._data\n",
    "    \n",
    "    @property\n",
    "    def shape(self) -> Tuple[int, ...]:\n",
    "        return self._data.shape\n",
    "    \n",
    "    @property\n",
    "    def size(self) -> int:\n",
    "        return self._data.size\n",
    "    \n",
    "    @property\n",
    "    def dtype(self) -> np.dtype:\n",
    "        return self._data.dtype\n",
    "    \n",
    "    def __repr__(self) -> str:\n",
    "        return f\"Tensor({self._data.tolist()}, shape={self.shape}, dtype={self.dtype})\"\n",
    "\n",
    "# Update the main Tensor class with complete implementation (for demo purposes)\n",
    "Tensor.__init__ = TensorComplete.__init__\n",
    "Tensor.data = TensorComplete.data  \n",
    "Tensor.shape = TensorComplete.shape\n",
    "Tensor.size = TensorComplete.size\n",
    "Tensor.dtype = TensorComplete.dtype\n",
    "Tensor.__repr__ = TensorComplete.__repr__"
   ]
  },
  {
   "cell_type": "markdown",
   "id": "ab4cdd47",
   "metadata": {
    "cell_marker": "\"\"\""
   },
   "source": [
    "### 🧪 Test Your Implementation\n",
    "\n",
    "Let's test the Tensor class you just implemented:"
   ]
  },
  {
   "cell_type": "code",
   "execution_count": null,
   "id": "f10c8ad0",
   "metadata": {},
   "outputs": [],
   "source": [
    "#| filter_stream FutureWarning\n",
    "print(\"=== Testing Tensor Creation ===\")\n",
    "\n",
    "# Scalar tensor\n",
    "scalar = Tensor(5.0)\n",
    "print(f\"Scalar: {scalar}\")\n",
    "\n",
    "# Vector tensor  \n",
    "vector = Tensor([1, 2, 3])\n",
    "print(f\"Vector: {vector}\")\n",
    "\n",
    "# Matrix tensor\n",
    "matrix = Tensor([[1, 2], [3, 4]])\n",
    "print(f\"Matrix: {matrix}\")\n",
    "\n",
    "print(f\"\\nProperties:\")\n",
    "print(f\"Matrix shape: {matrix.shape}\")\n",
    "print(f\"Matrix size: {matrix.size}\")\n",
    "print(f\"Matrix dtype: {matrix.dtype}\")"
   ]
  },
  {
   "cell_type": "markdown",
   "id": "5d090eb3",
   "metadata": {
    "cell_marker": "\"\"\"",
    "lines_to_next_cell": 1
   },
   "source": [
    "## Step 2: Arithmetic Operations - Progressive Learning\n",
    "\n",
    "Now let's add arithmetic operations step by step. Each operation will be revealed progressively.\n",
    "\n",
    "### 🎯 Challenge: Addition Operation\n",
    "Implement the `__add__` method. Think about:\n",
    "- How to handle `tensor + tensor`\n",
    "- How to handle `tensor + scalar`"
   ]
  },
  {
   "cell_type": "code",
   "execution_count": null,
   "id": "a5acf33e",
   "metadata": {},
   "outputs": [],
   "source": [
    "#| code-fold: true\n",
    "def __add__(self, other: Union['Tensor', int, float]) -> 'Tensor':\n",
    "    \"\"\"\n",
    "    Addition: tensor + other\n",
    "    \n",
    "    TODO: Implement addition\n",
    "    - Handle Tensor + Tensor case\n",
    "    - Handle Tensor + scalar case\n",
    "    - Return new Tensor with result\n",
    "    \"\"\"\n",
    "    # 🚨 Try implementing this yourself first!\n",
    "    if isinstance(other, Tensor):\n",
    "        return Tensor(self._data + other._data)\n",
    "    else:  # scalar\n",
    "        return Tensor(self._data + other)\n",
    "\n",
    "# Add to Tensor class\n",
    "Tensor.__add__ = __add__"
   ]
  },
  {
   "cell_type": "markdown",
   "id": "d6040321",
   "metadata": {
    "cell_marker": "\"\"\"",
    "lines_to_next_cell": 1
   },
   "source": [
    "### 🎯 Your Turn: Complete the Other Operations\n",
    "\n",
    "Now implement subtraction, multiplication, and division following the same pattern:"
   ]
  },
  {
   "cell_type": "code",
   "execution_count": null,
   "id": "a1e7310a",
   "metadata": {},
   "outputs": [],
   "source": [
    "#| hide\n",
    "#| export\n",
    "def _add_remaining_arithmetic_ops():\n",
    "    \"\"\"Complete arithmetic operations - hidden solution.\"\"\"\n",
    "    \n",
    "    def __sub__(self, other: Union['Tensor', int, float]) -> 'Tensor':\n",
    "        \"\"\"Subtraction: tensor - other\"\"\"\n",
    "        if isinstance(other, Tensor):\n",
    "            return Tensor(self._data - other._data)\n",
    "        else:  # scalar\n",
    "            return Tensor(self._data - other)\n",
    "    \n",
    "    def __mul__(self, other: Union['Tensor', int, float]) -> 'Tensor':\n",
    "        \"\"\"Multiplication: tensor * other\"\"\"\n",
    "        if isinstance(other, Tensor):\n",
    "            return Tensor(self._data * other._data)\n",
    "        else:  # scalar\n",
    "            return Tensor(self._data * other)\n",
    "    \n",
    "    def __truediv__(self, other: Union['Tensor', int, float]) -> 'Tensor':\n",
    "        \"\"\"Division: tensor / other\"\"\"\n",
    "        if isinstance(other, Tensor):\n",
    "            return Tensor(self._data / other._data)\n",
    "        else:  # scalar\n",
    "            return Tensor(self._data / other)\n",
    "    \n",
    "    def __radd__(self, other: Union[int, float]) -> 'Tensor':\n",
    "        \"\"\"Reverse addition: scalar + tensor\"\"\"\n",
    "        return Tensor(other + self._data)\n",
    "    \n",
    "    def __rmul__(self, other: Union[int, float]) -> 'Tensor':\n",
    "        \"\"\"Reverse multiplication: scalar * tensor\"\"\"\n",
    "        return Tensor(other * self._data)\n",
    "    \n",
    "    # Add methods to Tensor class\n",
    "    Tensor.__sub__ = __sub__\n",
    "    Tensor.__mul__ = __mul__\n",
    "    Tensor.__truediv__ = __truediv__\n",
    "    Tensor.__radd__ = __radd__\n",
    "    Tensor.__rmul__ = __rmul__\n",
    "\n",
    "# Apply the arithmetic operations\n",
    "_add_remaining_arithmetic_ops()"
   ]
  },
  {
   "cell_type": "markdown",
   "id": "e0a95f8e",
   "metadata": {
    "cell_marker": "\"\"\""
   },
   "source": [
    "### 🧪 Test Arithmetic Operations\n",
    "\n",
    "Let's verify our arithmetic operations work correctly:"
   ]
  },
  {
   "cell_type": "code",
   "execution_count": null,
   "id": "9960eee6",
   "metadata": {},
   "outputs": [],
   "source": [
    "print(\"=== Testing Arithmetic Operations ===\")\n",
    "\n",
    "a = Tensor([1, 2, 3])\n",
    "b = Tensor([4, 5, 6])\n",
    "\n",
    "print(f\"a = {a}\")\n",
    "print(f\"b = {b}\")\n",
    "print()\n",
    "\n",
    "# Tensor + Tensor\n",
    "print(f\"a + b = {a + b}\")\n",
    "print(f\"a - b = {a - b}\")\n",
    "print(f\"a * b = {a * b}\")\n",
    "print(f\"a / b = {a / b}\")\n",
    "print()\n",
    "\n",
    "# Tensor + Scalar\n",
    "print(f\"a + 10 = {a + 10}\")\n",
    "print(f\"a * 2 = {a * 2}\")\n",
    "print(f\"5 * a = {5 * a}\")  # Test reverse operations"
   ]
  },
  {
   "cell_type": "markdown",
   "id": "13731624",
   "metadata": {
    "cell_marker": "\"\"\"",
    "lines_to_next_cell": 1
   },
   "source": [
    "## Step 3: Advanced Operations - Instructor Mode\n",
    "\n",
    "The following section demonstrates more advanced features that instructors might want to show/hide dynamically.\n",
    "\n",
    "### Utility Methods with Progressive Revelation"
   ]
  },
  {
   "cell_type": "code",
   "execution_count": null,
   "id": "75ec1b88",
   "metadata": {},
   "outputs": [],
   "source": [
    "#| code-fold: show\n",
    "def reshape(self, *shape: int) -> 'Tensor':\n",
    "    \"\"\"\n",
    "    Reshape tensor to new dimensions.\n",
    "    \n",
    "    This is visible by default but collapsible for students who want to focus on other parts.\n",
    "    \"\"\"\n",
    "    return Tensor(self._data.reshape(shape))\n",
    "\n",
    "def transpose(self) -> 'Tensor':\n",
    "    \"\"\"Transpose the tensor (swap dimensions).\"\"\"\n",
    "    return Tensor(self._data.T)\n",
    "\n",
    "# Add basic methods that are always visible\n",
    "Tensor.reshape = reshape\n",
    "Tensor.transpose = transpose"
   ]
  },
  {
   "cell_type": "markdown",
   "id": "4bd218e0",
   "metadata": {
    "cell_marker": "\"\"\"",
    "lines_to_next_cell": 1
   },
   "source": [
    "### Advanced Reductions - Student Exercise"
   ]
  },
  {
   "cell_type": "code",
   "execution_count": null,
   "id": "03148b0c",
   "metadata": {},
   "outputs": [],
   "source": [
    "#| hide\n",
    "def sum(self, axis: Optional[int] = None) -> 'Tensor':\n",
    "    \"\"\"Sum elements along axis (or all elements if axis=None).\"\"\"\n",
    "    result = self._data.sum(axis=axis)\n",
    "    return Tensor(result)\n",
    "\n",
    "def mean(self, axis: Optional[int] = None) -> 'Tensor':\n",
    "    \"\"\"Mean of elements along axis (or all elements if axis=None).\"\"\"\n",
    "    result = self._data.mean(axis=axis)\n",
    "    return Tensor(result)\n",
    "\n",
    "def max(self, axis: Optional[int] = None) -> 'Tensor':\n",
    "    \"\"\"Maximum element along axis (or all elements if axis=None).\"\"\"\n",
    "    result = self._data.max(axis=axis)\n",
    "    return Tensor(result)\n",
    "\n",
    "def min(self, axis: Optional[int] = None) -> 'Tensor':\n",
    "    \"\"\"Minimum element along axis (or all elements if axis=None).\"\"\"\n",
    "    result = self._data.min(axis=axis)\n",
    "    return Tensor(result)\n",
    "\n",
    "def item(self) -> Union[int, float]:\n",
    "    \"\"\"Convert single-element tensor to Python scalar.\"\"\"\n",
    "    if self.size != 1:\n",
    "        raise ValueError(f\"Cannot convert tensor of size {self.size} to scalar\")\n",
    "    return self._data.item()\n",
    "\n",
    "def numpy(self) -> np.ndarray:\n",
    "    \"\"\"Convert to numpy array.\"\"\"\n",
    "    return self._data.copy()\n",
    "\n",
    "# Add methods to Tensor class\n",
    "Tensor.sum = sum\n",
    "Tensor.mean = mean\n",
    "Tensor.max = max\n",
    "Tensor.min = min\n",
    "Tensor.item = item\n",
    "Tensor.numpy = numpy"
   ]
  },
  {
   "cell_type": "markdown",
   "id": "89fd62cd",
   "metadata": {
    "cell_marker": "\"\"\""
   },
   "source": [
    "### 🧪 Comprehensive Testing\n",
    "\n",
    "Let's test all our utility methods:"
   ]
  },
  {
   "cell_type": "code",
   "execution_count": null,
   "id": "9c002f38",
   "metadata": {},
   "outputs": [],
   "source": [
    "#| filter_stream RuntimeWarning\n",
    "print(\"=== Testing Utility Methods ===\")\n",
    "\n",
    "# Create test tensor\n",
    "matrix = Tensor([[1, 2, 3], [4, 5, 6]])\n",
    "print(f\"Original matrix: {matrix}\")\n",
    "print(f\"Shape: {matrix.shape}\")\n",
    "print()\n",
    "\n",
    "# Shape manipulation\n",
    "reshaped = matrix.reshape(3, 2)\n",
    "print(f\"Reshaped to (3,2): {reshaped}\")\n",
    "\n",
    "transposed = matrix.transpose()\n",
    "print(f\"Transposed: {transposed}\")\n",
    "print()\n",
    "\n",
    "# Reductions\n",
    "print(f\"Sum (all): {matrix.sum()}\")\n",
    "print(f\"Sum (axis=0): {matrix.sum(axis=0)}\")  # Sum columns\n",
    "print(f\"Sum (axis=1): {matrix.sum(axis=1)}\")  # Sum rows\n",
    "print()\n",
    "\n",
    "print(f\"Mean: {matrix.mean()}\")\n",
    "print(f\"Max: {matrix.max()}\")\n",
    "print(f\"Min: {matrix.min()}\")"
   ]
  },
  {
   "cell_type": "markdown",
   "id": "0dae1edb",
   "metadata": {
    "cell_marker": "\"\"\""
   },
   "source": [
    "## Step 4: Neural Network Demo - Advanced Section\n",
    "\n",
    "This section shows how to use our tensor for actual ML operations.\n",
    "Advanced students can see this, beginners might skip it."
   ]
  },
  {
   "cell_type": "code",
   "execution_count": null,
   "id": "1bbf0acb",
   "metadata": {},
   "outputs": [],
   "source": [
    "#| code-fold: true\n",
    "print(\"=== Mini Neural Network Demo ===\")\n",
    "print(\"This demonstrates real ML usage of our Tensor class\")\n",
    "\n",
    "# Simulate a simple linear layer: y = W @ x + b\n",
    "print(\"\\nSimulating: y = W @ x + b (linear layer)\")\n",
    "\n",
    "# Input vector (batch_size=1, features=3)\n",
    "x = Tensor([[1.0, 2.0, 3.0]])\n",
    "print(f\"Input x: {x}\")\n",
    "\n",
    "# Weight matrix (output_features=2, input_features=3)  \n",
    "W = Tensor([[0.1, 0.2, 0.3], [0.4, 0.5, 0.6]])\n",
    "print(f\"Weights W: {W}\")\n",
    "\n",
    "# Bias vector (output_features=2)\n",
    "b = Tensor([0.1, 0.2])\n",
    "print(f\"Bias b: {b}\")\n",
    "\n",
    "# For demonstration (real matrix multiplication comes later in the course)\n",
    "result = W * 2.0 + b  # Scale weights and add bias as demo\n",
    "print(f\"Demo result: {result}\")\n",
    "print(f\"Mean activation: {result.mean()}\")"
   ]
  },
  {
   "cell_type": "markdown",
   "id": "3c928814",
   "metadata": {
    "cell_marker": "\"\"\""
   },
   "source": [
    "## 🎉 Congratulations!\n",
    "\n",
    "You've successfully implemented a complete Tensor class using NBDev's educational features!\n",
    "\n",
    "### What You've Learned\n",
    "- ✅ Tensor creation and properties\n",
    "- ✅ Arithmetic operations with proper broadcasting\n",
    "- ✅ Utility methods for shape manipulation and reductions\n",
    "- ✅ **NBDev's powerful educational directives**\n",
    "\n",
    "### NBDev Features Demonstrated\n",
    "- `#|hide` - Hidden complete solutions\n",
    "- `#|code-fold: show/true` - Collapsible code sections  \n",
    "- `#|filter_stream` - Clean output\n",
    "- `#|export` - Code that goes to the package\n",
    "- Progressive revelation of complexity\n",
    "\n",
    "### Next Steps\n",
    "```bash\n",
    "# Export to package\n",
    "python bin/tito.py sync --module tensor\n",
    "\n",
    "# Run tests  \n",
    "python bin/tito.py test --module tensor\n",
    "\n",
    "# Build documentation with NBDev\n",
    "nbdev_docs\n",
    "```\n",
    "\n",
    "The power of NBDev is that instructors can control exactly what students see and when, while maintaining a single source of truth!"
   ]
  },
  {
   "cell_type": "code",
   "execution_count": null,
   "id": "2be0a324",
   "metadata": {},
   "outputs": [],
   "source": [
    "#| hide_line\n",
    "print(\"🎓 This line is hidden in student view but visible to instructors\") \n",
    "print(\"🔥 Module complete! Ready for the next challenge.\") "
   ]
  }
 ],
 "metadata": {
  "jupytext": {
   "cell_metadata_filter": "-all",
   "main_language": "python",
   "notebook_metadata_filter": "-all"
  }
 },
 "nbformat": 4,
 "nbformat_minor": 5
}
