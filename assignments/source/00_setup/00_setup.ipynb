{
  "cells": [
    {
      "cell_type": "markdown",
      "id": "71411c2b",
      "metadata": {
        "cell_marker": "\"\"\""
      },
      "source": [
        "# Assignment 0: Setup - TinyTorch Development Environment\n",
        "\n",
        "Welcome to TinyTorch! In this assignment, you'll set up your development environment and create your first utilities for the TinyTorch ML framework.\n",
        "\n",
        "## Learning Objectives\n",
        "- Set up and verify your TinyTorch development environment\n",
        "- Create utility functions for the framework\n",
        "- Learn the development workflow: implement \u2192 export \u2192 test \u2192 use\n",
        "- Get familiar with the TinyTorch CLI tools\n",
        "\n",
        "## Assignment Overview\n",
        "You'll implement 4 core utilities that will be used throughout the TinyTorch framework:\n",
        "1. A welcome function with ASCII art loading\n",
        "2. A simple math utility function\n",
        "3. A system information collector\n",
        "4. A developer profile manager\n",
        "\n",
        "Let's get started!"
      ]
    },
    {
      "cell_type": "code",
      "execution_count": null,
      "id": "c55c229f",
      "metadata": {},
      "outputs": [],
      "source": [
        "#| default_exp core.utils"
      ]
    },
    {
      "cell_type": "code",
      "execution_count": null,
      "id": "596b9d04",
      "metadata": {},
      "outputs": [],
      "source": [
        "#| export\n",
        "# Required imports for TinyTorch utilities\n",
        "import sys\n",
        "import platform\n",
        "from datetime import datetime\n",
        "import os\n",
        "from pathlib import Path"
      ]
    },
    {
      "cell_type": "markdown",
      "id": "3ea55764",
      "metadata": {
        "cell_marker": "\"\"\"",
        "lines_to_next_cell": 1
      },
      "source": [
        "## Problem 1: Hello Function (5 points)\n",
        "\n",
        "Create a function that displays a welcome message for TinyTorch. This function should try to load ASCII art from a file, but gracefully fall back to a simple banner if the file doesn't exist.\n",
        "\n",
        "**Requirements:**\n",
        "- Try to read 'tinytorch_flame.txt' from the current directory\n",
        "- If the file exists, print its contents\n",
        "- If the file doesn't exist, print a simple \"TinyTorch\" banner\n",
        "- Always print \"Build ML Systems from Scratch!\" after the banner\n",
        "- Handle any file reading errors gracefully\n",
        "\n",
        "**Example Output:**\n",
        "```\n",
        "TinyTorch\n",
        "Build ML Systems from Scratch!\n",
        "```"
      ]
    },
    {
      "cell_type": "code",
      "execution_count": null,
      "id": "72997c78",
      "metadata": {
        "lines_to_next_cell": 1,
        "nbgrader": {
          "grade": false,
          "grade_id": "hello_function",
          "locked": false,
          "schema_version": 3,
          "solution": true,
          "task": false
        }
      },
      "outputs": [],
      "source": [
        "#| export\n",
        "def hello_tinytorch():\n",
        "    \"\"\"\n",
        "    Display a welcome message for TinyTorch.\n",
        "    \n",
        "    This function should:\n",
        "    1. Try to load ASCII art from 'tinytorch_flame.txt' if it exists\n",
        "    2. If the file doesn't exist, display a simple text banner\n",
        "    3. Print \"TinyTorch\" and \"Build ML Systems from Scratch!\"\n",
        "    4. Handle any exceptions gracefully\n",
        "    \"\"\"\n",
        "    ### BEGIN SOLUTION\n",
        "    # YOUR CODE HERE\n",
        "    raise NotImplementedError()\n",
        "    ### END SOLUTION"
      ]
    },
    {
      "cell_type": "markdown",
      "id": "d9bc4a93",
      "metadata": {
        "cell_marker": "\"\"\"",
        "lines_to_next_cell": 1
      },
      "source": [
        "## Problem 2: Multi-Step Math Function (10 points)\n",
        "\n",
        "Create a function that demonstrates multiple solution blocks within one function. This shows how NBGrader can guide you through step-by-step implementation.\n",
        "\n",
        "**Requirements:**\n",
        "- Step 1: Add 2 to each input variable\n",
        "- Step 2: Sum the modified variables  \n",
        "- Step 3: Multiply the result by 10\n",
        "- Return the final result\n",
        "\n",
        "**Example:**\n",
        "```python\n",
        "complex_calculation(3, 4)  # Step 1: 5, 6  Step 2: 11  Step 3: 110\n",
        "```\n",
        "\n",
        "**Note:** This function demonstrates how you can have multiple solution blocks within a single function for guided learning!"
      ]
    },
    {
      "cell_type": "code",
      "execution_count": null,
      "id": "a522e76a",
      "metadata": {
        "lines_to_next_cell": 1,
        "nbgrader": {
          "grade": false,
          "grade_id": "multi_step_function",
          "locked": false,
          "schema_version": 3,
          "solution": true,
          "task": false
        }
      },
      "outputs": [],
      "source": [
        "#| export\n",
        "def complex_calculation(a, b):\n",
        "    \"\"\"\n",
        "    Perform a multi-step calculation with guided implementation.\n",
        "    \n",
        "    Args:\n",
        "        a: First number\n",
        "        b: Second number\n",
        "        \n",
        "    Returns:\n",
        "        Result of multi-step calculation\n",
        "    \"\"\"\n",
        "    # Step 1: Add 2 to each input variable\n",
        "    # a_plus_2 = ...\n",
        "    ### BEGIN SOLUTION\n",
        "    # YOUR CODE HERE\n",
        "    raise NotImplementedError()\n",
        "    ### END SOLUTION\n",
        "    \n",
        "    # Step 2: Sum everything\n",
        "    # everything_summed = ...\n",
        "    ### BEGIN SOLUTION\n",
        "    # YOUR CODE HERE\n",
        "    raise NotImplementedError()\n",
        "    ### END SOLUTION\n",
        "    \n",
        "    # Step 3: Multiply your previous result by 10\n",
        "    # Hint: you can use np.multiply if you want people to hate you\n",
        "    # everything_summed_times_10 = ...\n",
        "    ### BEGIN SOLUTION\n",
        "    # YOUR CODE HERE\n",
        "    raise NotImplementedError()\n",
        "    ### END SOLUTION\n",
        "    \n",
        "    return everything_summed_times_10"
      ]
    },
    {
      "cell_type": "markdown",
      "id": "063a9433",
      "metadata": {
        "cell_marker": "\"\"\"",
        "lines_to_next_cell": 1
      },
      "source": [
        "## Problem 3: Basic Math Function (5 points)\n",
        "\n",
        "Create a simple addition function. This might seem trivial, but it's important to verify our basic development workflow is working correctly.\n",
        "\n",
        "**Requirements:**\n",
        "- Accept two parameters (a and b)\n",
        "- Return their sum\n",
        "- Handle both integers and floats\n",
        "\n",
        "**Example:**\n",
        "```python\n",
        "add_numbers(3, 4)      # Returns 7\n",
        "add_numbers(2.5, 1.5)  # Returns 4.0\n",
        "```"
      ]
    },
    {
      "cell_type": "code",
      "execution_count": null,
      "id": "fe31465d",
      "metadata": {
        "lines_to_next_cell": 1,
        "nbgrader": {
          "grade": false,
          "grade_id": "add_function",
          "locked": false,
          "schema_version": 3,
          "solution": true,
          "task": false
        }
      },
      "outputs": [],
      "source": [
        "#| export\n",
        "def add_numbers(a, b):\n",
        "    \"\"\"\n",
        "    Add two numbers together.\n",
        "    \n",
        "    Args:\n",
        "        a: First number (int or float)\n",
        "        b: Second number (int or float)\n",
        "        \n",
        "    Returns:\n",
        "        Sum of a and b\n",
        "    \"\"\"\n",
        "    ### BEGIN SOLUTION\n",
        "    # YOUR CODE HERE\n",
        "    raise NotImplementedError()\n",
        "    ### END SOLUTION"
      ]
    },
    {
      "cell_type": "markdown",
      "id": "371fa64f",
      "metadata": {
        "cell_marker": "\"\"\"",
        "lines_to_next_cell": 1
      },
      "source": [
        "## Problem 4: System Information Class (20 points)\n",
        "\n",
        "Create a class that collects and displays system information. This will help us understand the environment where TinyTorch is running.\n",
        "\n",
        "**Requirements:**\n",
        "- Collect Python version, platform, and machine architecture in `__init__`\n",
        "- Implement `__str__` to return formatted system info\n",
        "- Implement `is_compatible()` to check if Python version >= 3.8\n",
        "- Store information as instance variables\n",
        "\n",
        "**Example Output:**\n",
        "```\n",
        "Python 3.9.7 on Darwin (arm64)\n",
        "```"
      ]
    },
    {
      "cell_type": "code",
      "execution_count": null,
      "id": "177d04a8",
      "metadata": {
        "lines_to_next_cell": 1,
        "nbgrader": {
          "grade": false,
          "grade_id": "systeminfo_class",
          "locked": false,
          "schema_version": 3,
          "solution": true,
          "task": false
        }
      },
      "outputs": [],
      "source": [
        "#| export\n",
        "class SystemInfo:\n",
        "    \"\"\"\n",
        "    A class for collecting and displaying system information.\n",
        "    \"\"\"\n",
        "    \n",
        "    def __init__(self):\n",
        "        \"\"\"\n",
        "        Initialize the SystemInfo object.\n",
        "        Collect Python version, platform, and machine information.\n",
        "        \"\"\"\n",
        "        ### BEGIN SOLUTION\n",
        "    # YOUR CODE HERE\n",
        "    raise NotImplementedError()\n",
        "        ### END SOLUTION\n",
        "    \n",
        "    def __str__(self):\n",
        "        \"\"\"\n",
        "        Return a formatted string representation of system information.\n",
        "        Format: \"Python X.Y.Z on Platform (Architecture)\"\n",
        "        \"\"\"\n",
        "        ### BEGIN SOLUTION\n",
        "    # YOUR CODE HERE\n",
        "    raise NotImplementedError()\n",
        "        ### END SOLUTION\n",
        "    \n",
        "    def is_compatible(self):\n",
        "        \"\"\"\n",
        "        Check if the Python version is compatible (>= 3.8).\n",
        "        Returns True if compatible, False otherwise.\n",
        "        \"\"\"\n",
        "        ### BEGIN SOLUTION\n",
        "    # YOUR CODE HERE\n",
        "    raise NotImplementedError()\n",
        "        ### END SOLUTION"
      ]
    },
    {
      "cell_type": "markdown",
      "id": "973d993c",
      "metadata": {
        "cell_marker": "\"\"\"",
        "lines_to_next_cell": 1
      },
      "source": [
        "## Problem 5: Developer Profile Class (30 points)\n",
        "\n",
        "Create a class to manage developer profiles. This will be used to track who's working on different parts of the TinyTorch framework.\n",
        "\n",
        "**Requirements:**\n",
        "- Store developer information (name, email, affiliation, specialization)\n",
        "- Implement `__str__` for basic representation\n",
        "- Implement `get_signature()` for formatted signature\n",
        "- Implement `get_profile_info()` to return all info as a dictionary\n",
        "\n",
        "**Example:**\n",
        "```python\n",
        "dev = DeveloperProfile(\"Alice\", \"alice@example.com\", \"University\", \"Neural Networks\")\n",
        "print(dev)  # \"Alice (alice@example.com)\"\n",
        "print(dev.get_signature())  # Formatted signature with all info\n",
        "```"
      ]
    },
    {
      "cell_type": "code",
      "execution_count": null,
      "id": "dc9efa71",
      "metadata": {
        "lines_to_next_cell": 1,
        "nbgrader": {
          "grade": false,
          "grade_id": "developer_profile_class",
          "locked": false,
          "schema_version": 3,
          "solution": true,
          "task": false
        }
      },
      "outputs": [],
      "source": [
        "#| export\n",
        "class DeveloperProfile:\n",
        "    \"\"\"\n",
        "    A class representing a developer profile.\n",
        "    \"\"\"\n",
        "    \n",
        "    def __init__(self, name=\"Student\", email=\"student@example.com\", affiliation=\"TinyTorch Community\", specialization=\"ML Systems\"):\n",
        "        \"\"\"\n",
        "        Initialize a developer profile.\n",
        "        \n",
        "        Args:\n",
        "            name: Developer's name\n",
        "            email: Developer's email\n",
        "            affiliation: Developer's affiliation or organization\n",
        "            specialization: Developer's area of specialization\n",
        "        \"\"\"\n",
        "        ### BEGIN SOLUTION\n",
        "    # YOUR CODE HERE\n",
        "    raise NotImplementedError()\n",
        "        ### END SOLUTION\n",
        "    \n",
        "    def __str__(self):\n",
        "        \"\"\"\n",
        "        Return a basic string representation of the developer.\n",
        "        Format: \"Name (email)\"\n",
        "        \"\"\"\n",
        "        ### BEGIN SOLUTION\n",
        "    # YOUR CODE HERE\n",
        "    raise NotImplementedError()\n",
        "        ### END SOLUTION\n",
        "    \n",
        "    def get_signature(self):\n",
        "        \"\"\"\n",
        "        Return a formatted signature for the developer.\n",
        "        Should include name, affiliation, and specialization.\n",
        "        \"\"\"\n",
        "        ### BEGIN SOLUTION\n",
        "    # YOUR CODE HERE\n",
        "    raise NotImplementedError()\n",
        "        ### END SOLUTION\n",
        "    \n",
        "    def get_profile_info(self):\n",
        "        \"\"\"\n",
        "        Return comprehensive profile information as a dictionary.\n",
        "        \"\"\"\n",
        "        ### BEGIN SOLUTION\n",
        "    # YOUR CODE HERE\n",
        "    raise NotImplementedError()\n",
        "        ### END SOLUTION"
      ]
    },
    {
      "cell_type": "markdown",
      "id": "36d68622",
      "metadata": {
        "cell_marker": "\"\"\""
      },
      "source": [
        "## Testing Your Implementation\n",
        "\n",
        "Once you've implemented all the functions above, run the cells below to test your work!\n",
        "\n",
        "Remember the TinyTorch workflow:\n",
        "1. **Implement** the functions above\n",
        "2. **Export** to package: `tito module export 00_setup`\n",
        "3. **Test** your work: `pytest tests/ -v`\n",
        "4. **Use** your code: `from tinytorch.core.utils import hello_tinytorch`"
      ]
    },
    {
      "cell_type": "markdown",
      "id": "69d475e2",
      "metadata": {
        "cell_marker": "\"\"\"",
        "lines_to_next_cell": 1
      },
      "source": [
        "## Problem 6: Integration Test (30 points)\n",
        "\n",
        "Test that all your components work together correctly. This ensures your implementation is complete and ready for export to the TinyTorch package.\n",
        "\n",
        "**Requirements:**\n",
        "- Test all functions and classes work correctly\n",
        "- Test the multi-step function with multiple solution blocks\n",
        "- Verify system compatibility \n",
        "- Display a complete developer profile\n",
        "- Show successful framework initialization\n",
        "\n",
        "**Total Points: 95/95**"
      ]
    },
    {
      "cell_type": "code",
      "execution_count": null,
      "id": "de9fabc9",
      "metadata": {
        "lines_to_next_cell": 1,
        "nbgrader": {
          "grade": true,
          "grade_id": "integration_test",
          "locked": false,
          "points": 30,
          "schema_version": 3,
          "solution": true,
          "task": false
        }
      },
      "outputs": [],
      "source": [
        "def test_integration():\n",
        "    \"\"\"\n",
        "    Integration test to verify all components work together.\n",
        "    This function tests the complete TinyTorch setup workflow.\n",
        "    \"\"\"\n",
        "    ### BEGIN SOLUTION\n",
        "    # YOUR CODE HERE\n",
        "    raise NotImplementedError()\n",
        "    ### END SOLUTION"
      ]
    },
    {
      "cell_type": "markdown",
      "id": "fe968fb0",
      "metadata": {
        "cell_marker": "\"\"\""
      },
      "source": [
        "## Next Steps\n",
        "\n",
        "After completing this assignment:\n",
        "1. Export your code to the TinyTorch package\n",
        "2. Run the tests to verify everything works\n",
        "3. Try importing and using your functions\n",
        "4. Move on to the next assignment!\n",
        "\n",
        "You've just created the foundation utilities for TinyTorch. Great job! \ud83c\udf89"
      ]
    }
  ],
  "metadata": {
    "jupytext": {
      "main_language": "python"
    }
  },
  "nbformat": 4,
  "nbformat_minor": 5
}