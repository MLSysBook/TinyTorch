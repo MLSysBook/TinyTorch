{
 "cells": [
  {
   "cell_type": "markdown",
   "id": "8dad0504",
   "metadata": {
    "cell_marker": "\"\"\""
   },
   "source": [
    "# Module 0: Setup - Tiny🔥Torch Development Workflow\n",
    "\n",
    "Welcome to TinyTorch! This module teaches you the development workflow you'll use throughout the course.\n",
    "\n",
    "## Learning Goals\n",
    "- Understand the nbdev notebook-to-Python workflow\n",
    "- Write your first TinyTorch code\n",
    "- Run tests and use the CLI tools\n",
    "- Get comfortable with the development rhythm\n",
    "\n",
    "## The TinyTorch Development Cycle\n",
    "\n",
    "1. **Write code** in this notebook using `#| export` \n",
    "2. **Export code** with `python bin/tito.py sync --module setup`\n",
    "3. **Run tests** with `python bin/tito.py test --module setup`\n",
    "4. **Check progress** with `python bin/tito.py info`\n",
    "\n",
    "Let's get started!"
   ]
  },
  {
   "cell_type": "code",
   "execution_count": null,
   "id": "d8986dab",
   "metadata": {},
   "outputs": [],
   "source": [
    "#| default_exp core.utils\n",
    "\n",
    "# Setup imports and environment\n",
    "import sys\n",
    "import platform\n",
    "from datetime import datetime\n",
    "import os\n",
    "from pathlib import Path\n",
    "\n",
    "print(\"🔥 TinyTorch Development Environment\")\n",
    "print(f\"Python {sys.version}\")\n",
    "print(f\"Platform: {platform.system()} {platform.release()}\")\n",
    "print(f\"Started: {datetime.now().strftime('%Y-%m-%d %H:%M:%S')}\")"
   ]
  },
  {
   "cell_type": "markdown",
   "id": "9389fc51",
   "metadata": {
    "cell_marker": "\"\"\"",
    "lines_to_next_cell": 1
   },
   "source": [
    "## Step 1: Understanding the Module → Package Structure\n",
    "\n",
    "**🎓 Teaching vs. 🔧 Building**: This course has two sides:\n",
    "- **Teaching side**: You work in `modules/setup/setup_dev.ipynb` (learning-focused)\n",
    "- **Building side**: Your code exports to `tinytorch/core/utils.py` (production package)\n",
    "\n",
    "**Key Concept**: The `#| default_exp core.utils` directive at the top tells nbdev to export all `#| export` cells to `tinytorch/core/utils.py`.\n",
    "\n",
    "This separation allows us to:\n",
    "- Organize learning by **concepts** (modules)  \n",
    "- Organize code by **function** (package structure)\n",
    "- Build a real ML framework while learning systematically\n",
    "\n",
    "Let's write a simple \"Hello World\" function with the `#| export` directive:"
   ]
  },
  {
   "cell_type": "code",
   "execution_count": null,
   "id": "17145cf3",
   "metadata": {
    "lines_to_next_cell": 1,
    "nbgrader": {
     "grade": false,
     "grade_id": "hello-function",
     "locked": false,
     "schema_version": 3,
     "solution": true,
     "task": false
    }
   },
   "outputs": [],
   "source": [
    "#| export\n",
    "def hello_tinytorch():\n",
    "    \"\"\"\n",
    "    A simple hello world function for TinyTorch.\n",
    "    \n",
    "    TODO: Implement this function to display TinyTorch ASCII art and welcome message.\n",
    "    Load the flame art from tinytorch_flame.txt file with graceful fallback.\n",
    "    \n",
    "    HINTS:\n",
    "    1. Try to load ASCII art from 'tinytorch_flame.txt' in current directory\n",
    "    2. If file exists, read and print the content\n",
    "    3. Add \"Tiny🔥Torch\" and \"Build ML Systems from Scratch!\" messages\n",
    "    4. If file doesn't exist, just print the emoji version\n",
    "    5. Handle any exceptions gracefully\n",
    "    \n",
    "    EXAMPLE OUTPUT:\n",
    "    [ASCII art from file]\n",
    "    Tiny🔥Torch\n",
    "    Build ML Systems from Scratch!\n",
    "    \"\"\"\n",
    "    # YOUR CODE HERE\n",
    "    raise NotImplementedError()"
   ]
  },
  {
   "cell_type": "code",
   "execution_count": null,
   "id": "6793b66f",
   "metadata": {
    "lines_to_next_cell": 1,
    "nbgrader": {
     "grade": false,
     "grade_id": "add-function",
     "locked": false,
     "schema_version": 3,
     "solution": true,
     "task": false
    }
   },
   "outputs": [],
   "source": [
    "#| export\n",
    "def add_numbers(a, b):\n",
    "    \"\"\"\n",
    "    Add two numbers together.\n",
    "    \n",
    "    TODO: Implement addition of two numbers.\n",
    "    This is the foundation of all mathematical operations in ML.\n",
    "    \n",
    "    Args:\n",
    "        a: First number (int or float)\n",
    "        b: Second number (int or float)\n",
    "        \n",
    "    Returns:\n",
    "        Sum of a and b\n",
    "        \n",
    "    EXAMPLE:\n",
    "    add_numbers(2, 3) should return 5\n",
    "    add_numbers(1.5, 2.5) should return 4.0\n",
    "    \"\"\"\n",
    "    # YOUR CODE HERE\n",
    "    raise NotImplementedError()"
   ]
  },
  {
   "cell_type": "markdown",
   "id": "6840983e",
   "metadata": {
    "cell_marker": "\"\"\""
   },
   "source": [
    "### 🧪 Test Your Implementation\n",
    "\n",
    "Once you implement the functions above, run this cell to test them:"
   ]
  },
  {
   "cell_type": "code",
   "execution_count": null,
   "id": "fb7631b3",
   "metadata": {
    "nbgrader": {
     "grade": true,
     "grade_id": "test-hello-function",
     "locked": true,
     "points": 3,
     "schema_version": 3,
     "solution": false,
     "task": false
    }
   },
   "outputs": [],
   "source": [
    "# Test hello_tinytorch function\n",
    "print(\"Testing hello_tinytorch():\")\n",
    "try:\n",
    "    hello_tinytorch()\n",
    "    print(\"✅ hello_tinytorch() executed successfully!\")\n",
    "except NotImplementedError:\n",
    "    print(\"❌ hello_tinytorch() not implemented yet\")\n",
    "    raise"
   ]
  },
  {
   "cell_type": "code",
   "execution_count": null,
   "id": "60c14231",
   "metadata": {
    "nbgrader": {
     "grade": true,
     "grade_id": "test-add-function",
     "locked": true,
     "points": 2,
     "schema_version": 3,
     "solution": false,
     "task": false
    }
   },
   "outputs": [],
   "source": [
    "# Test add_numbers function\n",
    "print(\"Testing add_numbers():\")\n",
    "assert add_numbers(2, 3) == 5, \"add_numbers(2, 3) should return 5\"\n",
    "assert add_numbers(0, 0) == 0, \"add_numbers(0, 0) should return 0\"\n",
    "assert add_numbers(-1, 1) == 0, \"add_numbers(-1, 1) should return 0\"\n",
    "assert abs(add_numbers(1.5, 2.5) - 4.0) < 1e-10, \"add_numbers(1.5, 2.5) should return 4.0\"\n",
    "print(\"✅ All addition tests passed!\")"
   ]
  },
  {
   "cell_type": "markdown",
   "id": "ec449d60",
   "metadata": {
    "cell_marker": "\"\"\"",
    "lines_to_next_cell": 1
   },
   "source": [
    "## Step 2: A Simple Class\n",
    "\n",
    "Let's create a simple class that will help us understand system information. This is still basic, but shows how to structure classes in TinyTorch."
   ]
  },
  {
   "cell_type": "code",
   "execution_count": null,
   "id": "43affa0b",
   "metadata": {
    "lines_to_next_cell": 1,
    "nbgrader": {
     "grade": false,
     "grade_id": "systeminfo-class",
     "locked": false,
     "schema_version": 3,
     "solution": true,
     "task": false
    }
   },
   "outputs": [],
   "source": [
    "#| export\n",
    "class SystemInfo:\n",
    "    \"\"\"\n",
    "    Simple system information class.\n",
    "    \n",
    "    TODO: Implement this class to collect and display system information.\n",
    "    \n",
    "    REQUIREMENTS:\n",
    "    1. __init__: Collect Python version, platform, and machine information\n",
    "    2. __str__: Return formatted system info string\n",
    "    3. is_compatible: Check if Python version >= 3.8\n",
    "    \n",
    "    HINTS:\n",
    "    - Use sys.version_info for Python version\n",
    "    - Use platform.system() for platform name  \n",
    "    - Use platform.machine() for machine architecture\n",
    "    - Store these as instance attributes in __init__\n",
    "    \"\"\"\n",
    "    \n",
    "    def __init__(self):\n",
    "        \"\"\"\n",
    "        Initialize system information collection.\n",
    "        \n",
    "        TODO: Collect Python version, platform, and machine information.\n",
    "        Store as instance attributes: self.python_version, self.platform, self.machine\n",
    "        \"\"\"\n",
    "        # YOUR CODE HERE\n",
    "        raise NotImplementedError()\n",
    "    \n",
    "    def __str__(self):\n",
    "        \"\"\"\n",
    "        Return human-readable system information.\n",
    "        \n",
    "        TODO: Format system info as a readable string.\n",
    "        FORMAT: \"Python X.Y on Platform (Architecture)\"\n",
    "        EXAMPLE: \"Python 3.9 on Darwin (arm64)\"\n",
    "        \"\"\"\n",
    "        # YOUR CODE HERE\n",
    "        raise NotImplementedError()\n",
    "    \n",
    "    def is_compatible(self):\n",
    "        \"\"\"\n",
    "        Check if system meets minimum requirements.\n",
    "        \n",
    "        TODO: Check if Python version >= 3.8\n",
    "        Return True if compatible, False otherwise\n",
    "        \"\"\"\n",
    "        # YOUR CODE HERE\n",
    "        raise NotImplementedError()"
   ]
  },
  {
   "cell_type": "markdown",
   "id": "81445d5d",
   "metadata": {
    "cell_marker": "\"\"\""
   },
   "source": [
    "### 🧪 Test Your SystemInfo Class\n",
    "\n",
    "Once you implement the SystemInfo class above, run this cell to test it:"
   ]
  },
  {
   "cell_type": "code",
   "execution_count": null,
   "id": "23bbf329",
   "metadata": {
    "nbgrader": {
     "grade": true,
     "grade_id": "test-systeminfo-creation",
     "locked": true,
     "points": 2,
     "schema_version": 3,
     "solution": false,
     "task": false
    }
   },
   "outputs": [],
   "source": [
    "# Test SystemInfo creation\n",
    "print(\"Testing SystemInfo creation...\")\n",
    "info = SystemInfo()\n",
    "assert hasattr(info, 'python_version'), \"SystemInfo should have python_version attribute\"\n",
    "assert hasattr(info, 'platform'), \"SystemInfo should have platform attribute\"\n",
    "assert hasattr(info, 'machine'), \"SystemInfo should have machine attribute\"\n",
    "print(\"✅ SystemInfo creation test passed!\")"
   ]
  },
  {
   "cell_type": "code",
   "execution_count": null,
   "id": "621f5acf",
   "metadata": {
    "nbgrader": {
     "grade": true,
     "grade_id": "test-systeminfo-str",
     "locked": true,
     "points": 2,
     "schema_version": 3,
     "solution": false,
     "task": false
    }
   },
   "outputs": [],
   "source": [
    "# Test SystemInfo string representation\n",
    "print(\"Testing SystemInfo string representation...\")\n",
    "info = SystemInfo()\n",
    "info_str = str(info)\n",
    "assert isinstance(info_str, str), \"SystemInfo.__str__() should return a string\"\n",
    "assert len(info_str) > 0, \"SystemInfo string should not be empty\"\n",
    "assert 'Python' in info_str, \"SystemInfo string should contain 'Python'\"\n",
    "print(f\"✅ SystemInfo string: {info_str}\")"
   ]
  },
  {
   "cell_type": "code",
   "execution_count": null,
   "id": "da5e0d37",
   "metadata": {
    "nbgrader": {
     "grade": true,
     "grade_id": "test-systeminfo-compatibility",
     "locked": true,
     "points": 1,
     "schema_version": 3,
     "solution": false,
     "task": false
    }
   },
   "outputs": [],
   "source": [
    "# Test SystemInfo compatibility check\n",
    "print(\"Testing SystemInfo compatibility...\")\n",
    "info = SystemInfo()\n",
    "compatible = info.is_compatible()\n",
    "assert isinstance(compatible, bool), \"is_compatible() should return a boolean\"\n",
    "# Since we're running this test, Python should be >= 3.8\n",
    "assert compatible == True, \"Current Python version should be compatible (>= 3.8)\"\n",
    "print(\"✅ SystemInfo compatibility test passed!\")"
   ]
  },
  {
   "cell_type": "markdown",
   "id": "55e72365",
   "metadata": {
    "cell_marker": "\"\"\"",
    "lines_to_next_cell": 1
   },
   "source": [
    "## Step 3: Developer Profile (Optional Challenge)\n",
    "\n",
    "For students who want an extra challenge, implement a DeveloperProfile class:"
   ]
  },
  {
   "cell_type": "code",
   "execution_count": null,
   "id": "75f3279f",
   "metadata": {
    "lines_to_next_cell": 1,
    "nbgrader": {
     "grade": false,
     "grade_id": "developer-profile",
     "locked": false,
     "schema_version": 3,
     "solution": true,
     "task": false
    }
   },
   "outputs": [],
   "source": [
    "#| export\n",
    "class DeveloperProfile:\n",
    "    \"\"\"\n",
    "    Developer profile for personalizing TinyTorch experience.\n",
    "    \n",
    "    TODO: OPTIONAL CHALLENGE - Implement this class for extra credit!\n",
    "    \n",
    "    REQUIREMENTS:\n",
    "    1. Store developer information (name, email, etc.)\n",
    "    2. Load ASCII art from file with fallback\n",
    "    3. Generate formatted profile display\n",
    "    4. Create professional signature\n",
    "    \n",
    "    This is an advanced exercise - only attempt after completing the required parts!\n",
    "    \"\"\"\n",
    "    \n",
    "    def __init__(self, name=\"Student\", email=\"student@example.com\"):\n",
    "        \"\"\"\n",
    "        Initialize developer profile.\n",
    "        \n",
    "        TODO: Store developer information with defaults.\n",
    "        Feel free to customize with your own info!\n",
    "        \"\"\"\n",
    "        # YOUR CODE HERE (OPTIONAL)\n",
    "        self.name = name\n",
    "        self.email = email\n",
    "    \n",
    "    def get_signature(self):\n",
    "        \"\"\"\n",
    "        Get a short signature for code headers.\n",
    "        \n",
    "        TODO: Return a signature like \"Built by Name (email)\"\n",
    "        \"\"\"\n",
    "        # YOUR CODE HERE (OPTIONAL)\n",
    "        return f\"Built by {self.name} ({self.email})\""
   ]
  },
  {
   "cell_type": "markdown",
   "id": "6efefa44",
   "metadata": {
    "cell_marker": "\"\"\""
   },
   "source": [
    "## 🎯 Module Summary\n",
    "\n",
    "Congratulations! You've completed the TinyTorch setup module:\n",
    "\n",
    "### What You've Accomplished\n",
    "✅ **Environment Setup**: Learned the development workflow  \n",
    "✅ **First Function**: Implemented hello_tinytorch() with file handling  \n",
    "✅ **Math Operations**: Built add_numbers() for ML foundations  \n",
    "✅ **Object-Oriented Programming**: Created SystemInfo class with properties  \n",
    "✅ **Testing**: Verified your implementations with automated tests  \n",
    "✅ **Package Export**: Used nbdev to build the tinytorch package  \n",
    "\n",
    "### Key Concepts You've Learned\n",
    "- **nbdev workflow**: From notebook to production package\n",
    "- **File handling**: Reading ASCII art with graceful fallbacks\n",
    "- **System information**: Collecting platform and version data\n",
    "- **Object-oriented design**: Classes, properties, and methods\n",
    "- **Error handling**: Using try/except and fallback strategies\n",
    "\n",
    "### Next Steps\n",
    "1. **Export your code**: Run `python bin/tito.py sync --module setup`\n",
    "2. **Run tests**: Use `python bin/tito.py test --module setup`\n",
    "3. **Check your work**: Import your functions with `from tinytorch.core.utils import hello_tinytorch`\n",
    "\n",
    "**Ready for the next challenge?** Let's move on to building tensors!"
   ]
  }
 ],
 "metadata": {
  "jupytext": {
   "main_language": "python"
  }
 },
 "nbformat": 4,
 "nbformat_minor": 5
}
